{
 "cells": [
  {
   "cell_type": "markdown",
   "metadata": {},
   "source": [
    "<center><h1>第三章 索引</h1></center>"
   ]
  },
  {
   "cell_type": "code",
   "execution_count": 4,
   "metadata": {},
   "outputs": [],
   "source": [
    "import numpy as np\n",
    "import pandas as pd"
   ]
  },
  {
   "cell_type": "markdown",
   "metadata": {},
   "source": [
    "## 一、索引器\n",
    "### 1. 表的列索引\n",
    "列索引是最常见的索引形式，一般通过`[]`来实现。通过`[列名]`可以从`DataFrame`中取出相应的列，返回值为`Series`，例如从表中取出姓名一列："
   ]
  },
  {
   "cell_type": "code",
   "execution_count": null,
   "metadata": {},
   "outputs": [],
   "source": [
    "df = pd.read_csv('../data/learn_pandas.csv', usecols = ['School', 'Grade', 'Name', 'Gender', 'Weight', 'Transfer'])\n",
    "df['Name'].head()"
   ]
  },
  {
   "cell_type": "code",
   "execution_count": null,
   "metadata": {},
   "outputs": [],
   "source": [
    "# 通过这种方式可以直接获取制定的数据块，但是是先去行还是先去列还不知道\n",
    "df[1:3]['Name']"
   ]
  },
  {
   "cell_type": "markdown",
   "metadata": {},
   "source": [
    "如果要取出多个列，则可以通过`[列名组成的列表]`，其返回值为一个`DataFrame`，例如从表中取出性别和姓名两列："
   ]
  },
  {
   "cell_type": "code",
   "execution_count": null,
   "metadata": {},
   "outputs": [],
   "source": [
    "df[['Gender', 'Name']].head()"
   ]
  },
  {
   "cell_type": "markdown",
   "metadata": {},
   "source": [
    "此外，若要取出单列，且列名中不包含空格，则可以用`.列名`取出，这和`[列名]`是等价的："
   ]
  },
  {
   "cell_type": "code",
   "execution_count": null,
   "metadata": {},
   "outputs": [],
   "source": [
    "# 感觉不太好用，容易对阅读产生干扰\n",
    "df.Name.head()"
   ]
  },
  {
   "cell_type": "markdown",
   "metadata": {},
   "source": [
    "### 2. 序列的行索引\n",
    "\n",
    "【a】以字符串为索引的`Series`\n",
    "\n",
    "如果取出单个索引的对应元素，则可以使用`[item]`，若`Series`只有单个值对应，则返回这个标量值，如果有多个值对应，则返回一个`Series`："
   ]
  },
  {
   "cell_type": "code",
   "execution_count": null,
   "metadata": {},
   "outputs": [],
   "source": [
    "s = pd.Series([1, 2, 3, 4, 5, 6], index=['a', 'b', 'a', 'a', 'a', 'c'])\n",
    "s['a']"
   ]
  },
  {
   "cell_type": "code",
   "execution_count": null,
   "metadata": {},
   "outputs": [],
   "source": [
    "s['b']"
   ]
  },
  {
   "cell_type": "markdown",
   "metadata": {},
   "source": [
    "如果取出多个索引的对应元素，则可以使用`[items的列表]`："
   ]
  },
  {
   "cell_type": "code",
   "execution_count": null,
   "metadata": {},
   "outputs": [],
   "source": [
    "s[['c', 'b']]"
   ]
  },
  {
   "cell_type": "markdown",
   "metadata": {},
   "source": [
    "如果想要取出某两个索引之间的元素，并且这两个索引是在整个索引中唯一出现，则可以使用切片,，同时需要注意这里的切片会包含两个端点："
   ]
  },
  {
   "cell_type": "code",
   "execution_count": null,
   "metadata": {},
   "outputs": [],
   "source": [
    "s['c': 'b': -2]"
   ]
  },
  {
   "cell_type": "markdown",
   "metadata": {},
   "source": [
    "如果前后端点的值重复出现，那么需要经过排序才能使用切片："
   ]
  },
  {
   "cell_type": "code",
   "execution_count": null,
   "metadata": {},
   "outputs": [],
   "source": [
    "try:\n",
    "    s['a': 'b']\n",
    "except Exception as e:\n",
    "    Err_Msg = e\n",
    "Err_Msg"
   ]
  },
  {
   "cell_type": "code",
   "execution_count": null,
   "metadata": {},
   "outputs": [],
   "source": [
    "s.sort_index()['a': 'b']"
   ]
  },
  {
   "cell_type": "markdown",
   "metadata": {},
   "source": [
    "【b】以整数为索引的`Series`\n",
    "\n",
    "在使用数据的读入函数时，如果不特别指定所对应的列作为索引，那么会生成从0开始的整数索引作为默认索引。当然，任意一组符合长度要求的整数都可以作为索引。\n",
    "\n",
    "和字符串一样，如果使用`[int]`或`[int_list]`，则可以取出对应索引**元素**的值："
   ]
  },
  {
   "cell_type": "code",
   "execution_count": null,
   "metadata": {},
   "outputs": [],
   "source": [
    "s = pd.Series(['a', 'b', 'c', 'd', 'e', 'f'], index=[1, 3, 1, 2, 5, 4])\n",
    "s[1]"
   ]
  },
  {
   "cell_type": "code",
   "execution_count": null,
   "metadata": {},
   "outputs": [],
   "source": [
    "s[[2,3]]"
   ]
  },
  {
   "cell_type": "markdown",
   "metadata": {},
   "source": [
    "如果使用整数切片，则会取出对应索引**位置**的值，注意这里的整数切片同`Python`中的切片一样不包含右端点："
   ]
  },
  {
   "cell_type": "code",
   "execution_count": null,
   "metadata": {},
   "outputs": [],
   "source": [
    "s[1:-1:2]"
   ]
  },
  {
   "cell_type": "markdown",
   "metadata": {},
   "source": [
    "#### 【WARNING】关于索引类型的说明\n",
    "\n",
    "如果不想陷入麻烦，那么请不要把纯浮点以及任何混合类型（字符串、整数、浮点类型等的混合）作为索引，否则可能会在具体的操作时报错或者返回非预期的结果，并且在实际的数据分析中也不存在这样做的动机。\n",
    "\n",
    "#### 【END】\n",
    "\n",
    "### 3. loc索引器\n",
    "\n",
    "前面讲到了对`DataFrame`的列进行选取，下面要讨论其行的选取。对于表而言，有两种索引器，一种是基于**元素**的`loc`索引器，另一种是基于**位置**的`iloc`索引器。\n",
    "\n",
    "`loc`索引器的一般形式是`loc[*, *]`，其中第一个`*`代表行的选择，第二个`*`代表列的选择，如果省略第二个位置写作`loc[*]`，这个`*`是指行的筛选。其中，`*`的位置一共有五类合法对象，分别是：单个元素、元素列表、元素切片、布尔列表以及函数，下面将依次说明。\n",
    "\n",
    "为了演示相应操作，先利用`set_index`方法把`Name`列设为索引，关于该函数的其他用法将在多级索引一章介绍。"
   ]
  },
  {
   "cell_type": "code",
   "execution_count": null,
   "metadata": {},
   "outputs": [],
   "source": [
    "df_demo = df.set_index('Name')\n",
    "df_demo.head()"
   ]
  },
  {
   "cell_type": "markdown",
   "metadata": {},
   "source": [
    "【a】`*`为单个元素\n",
    "\n",
    "此时，直接取出相应的行或列，如果该元素在索引中重复则结果为`DataFrame`，否则为`Series`："
   ]
  },
  {
   "cell_type": "code",
   "execution_count": null,
   "metadata": {},
   "outputs": [],
   "source": [
    "df_demo.loc['Qiang Sun'] # 多个人叫此名字"
   ]
  },
  {
   "cell_type": "code",
   "execution_count": null,
   "metadata": {},
   "outputs": [],
   "source": [
    "df_demo.loc['Quan Zhao'] # 名字唯一"
   ]
  },
  {
   "cell_type": "markdown",
   "metadata": {},
   "source": [
    "也可以同时选择行和列："
   ]
  },
  {
   "cell_type": "code",
   "execution_count": null,
   "metadata": {},
   "outputs": [],
   "source": [
    "df_demo.loc['Qiang Sun', 'School'] # 返回Series"
   ]
  },
  {
   "cell_type": "code",
   "execution_count": null,
   "metadata": {},
   "outputs": [],
   "source": [
    "df_demo.loc['Quan Zhao', 'School'] # 返回单个元素"
   ]
  },
  {
   "cell_type": "markdown",
   "metadata": {},
   "source": [
    "【b】`*`为元素列表\n",
    "\n",
    "此时，取出列表中所有元素值对应的行或列："
   ]
  },
  {
   "cell_type": "code",
   "execution_count": null,
   "metadata": {},
   "outputs": [],
   "source": [
    "# 可以随意组合，但是如果使用true fase这种需要跟索引大小一致\n",
    "# df_demo.loc[:, [True,False,True,False,False]]\n",
    "df_demo.loc[['Qiang Sun','Quan Zhao'], ['School','Gender']]"
   ]
  },
  {
   "cell_type": "markdown",
   "metadata": {},
   "source": [
    "【c】`*`为切片\n",
    "\n",
    "之前的`Series`使用字符串索引时提到，如果是唯一值的起点和终点字符，那么就可以使用切片，并且包含两个端点，如果不唯一则报错："
   ]
  },
  {
   "cell_type": "code",
   "execution_count": null,
   "metadata": {},
   "outputs": [],
   "source": [
    "df_demo.loc['Gaojuan You':'Gaoqiang Qian', 'School':'Gender']"
   ]
  },
  {
   "cell_type": "markdown",
   "metadata": {},
   "source": [
    "需要注意的是，如果`DataFrame`使用整数索引，其使用整数切片的时候和上面字符串索引的要求一致，都是**元素**切片，包含端点且起点、终点不允许有重复值。"
   ]
  },
  {
   "cell_type": "code",
   "execution_count": null,
   "metadata": {},
   "outputs": [],
   "source": [
    "df_loc_slice_demo = df_demo.copy()\n",
    "df_loc_slice_demo.index = range(df_demo.shape[0],0,-1)\n",
    "df_loc_slice_demo\n",
    "# df_loc_slice_demo.loc[5:3]"
   ]
  },
  {
   "cell_type": "code",
   "execution_count": null,
   "metadata": {},
   "outputs": [],
   "source": [
    "arr=np.arange(9).reshape(3,3)\n",
    "df=pd.DataFrame(arr, columns=['A','B','C'])\n",
    "# 反着取可不行呦\n",
    "df.loc[1:0,'A']"
   ]
  },
  {
   "cell_type": "code",
   "execution_count": null,
   "metadata": {},
   "outputs": [],
   "source": [
    "df_loc_slice_demo.loc[3:5] # 没有返回，说明不是整数位置切片"
   ]
  },
  {
   "cell_type": "markdown",
   "metadata": {},
   "source": [
    "【d】`*`为布尔列表\n",
    "\n",
    "在实际的数据处理中，根据条件来筛选行是极其常见的，此处传入`loc`的布尔列表与`DataFrame`长度相同，且列表为`True`的位置所对应的行会被选中，`False`则会被剔除。\n",
    "\n",
    "例如，选出体重超过70kg的学生："
   ]
  },
  {
   "cell_type": "code",
   "execution_count": null,
   "metadata": {},
   "outputs": [],
   "source": [
    "# 这个简直不要太方便\n",
    "df_demo.loc[df_demo.Weight>70].head()"
   ]
  },
  {
   "cell_type": "markdown",
   "metadata": {},
   "source": [
    "前面所提到的传入元素列表，也可以通过`isin`方法返回的布尔列表等价写出，例如选出所有大一和大四的同学信息："
   ]
  },
  {
   "cell_type": "code",
   "execution_count": null,
   "metadata": {},
   "outputs": [],
   "source": [
    "# 是在不喜欢直接点元素名字，还是喜欢['Grade']\n",
    "df_demo.loc[df_demo.Grade.isin(['Freshman', 'Senior'])].head()"
   ]
  },
  {
   "cell_type": "markdown",
   "metadata": {},
   "source": [
    "对于复合条件而言，可以用`|（或）, &（且）, ~（取反）`的组合来实现，例如选出复旦大学中体重超过70kg的大四学生，或者北大男生中体重超过80kg的非大四的学生："
   ]
  },
  {
   "cell_type": "code",
   "execution_count": null,
   "metadata": {},
   "outputs": [],
   "source": [
    "# 向这种是不是qure更好一些\n",
    "condition_1_1 = df_demo.School == 'Fudan University'\n",
    "condition_1_2 = df_demo.Grade == 'Senior'\n",
    "condition_1_3 = df_demo.Weight > 70\n",
    "condition_1 = condition_1_1 & condition_1_2 & condition_1_3\n",
    "condition_2_1 = df_demo.School == 'Peking University'\n",
    "condition_2_2 = df_demo.Grade == 'Senior'\n",
    "condition_2_3 = df_demo.Weight > 80\n",
    "condition_2 = condition_2_1 & (~condition_2_2) & condition_2_3\n",
    "df_demo.loc[condition_1 | condition_2]\n",
    "# condition_1_1 & condition_1_2 返回的是一个series值都是true或者false\n"
   ]
  },
  {
   "cell_type": "code",
   "execution_count": null,
   "metadata": {},
   "outputs": [],
   "source": [
    "# 放到一行和分到多行都可以\n",
    "df_demo.query('(School == \"Fudan University\"&Grade == \"Senior\"&Weight > 70)|(School == \"Peking University\"&Grade != \"Senior\"&Weight > 80)')"
   ]
  },
  {
   "cell_type": "markdown",
   "metadata": {},
   "source": [
    "#### 【练一练】\n",
    "\n",
    "`select_dtypes`是一个实用函数，它能够从表中选出相应类型的列，若要选出所有数值型的列，只需使用`.select_dtypes('number')`，请利用布尔列表选择的方法结合`DataFrame`的`dtypes`属性在`learn_pandas`数据集上实现这个功能。\n",
    "\n",
    "#### 【END】"
   ]
  },
  {
   "cell_type": "code",
   "execution_count": null,
   "metadata": {},
   "outputs": [],
   "source": [
    "learn_pandas_df=pd.read_csv('../data/learn_pandas.csv')\n",
    "learn_pandas_df.select_dtypes('number')"
   ]
  },
  {
   "cell_type": "code",
   "execution_count": null,
   "metadata": {},
   "outputs": [],
   "source": [
    "learn_pandas_df.loc[:,learn_pandas_df.dtypes.apply(lambda x: np.issubdtype(x,np.number))]"
   ]
  },
  {
   "cell_type": "markdown",
   "metadata": {},
   "source": [
    "\n",
    "【e】`*`为函数\n",
    "\n",
    "这里的函数，必须以前面的四种合法形式之一为返回值，并且函数的输入值为`DataFrame`本身。假设仍然是上述复合条件筛选的例子，可以把逻辑写入一个函数中再返回，需要注意的是函数的形式参数`x`本质上即为`df_demo`："
   ]
  },
  {
   "cell_type": "code",
   "execution_count": null,
   "metadata": {},
   "outputs": [],
   "source": [
    "# 传入的就是df_demo本身，所以更改在它本身上生效\n",
    "def condition(x):\n",
    "    x['School']='aaaa'\n",
    "    condition_1_1 = x.School == 'Fudan University'\n",
    "    condition_1_2 = x.Grade == 'Senior'\n",
    "    condition_1_3 = x.Weight > 70\n",
    "    condition_1 = condition_1_1 & condition_1_2 & condition_1_3\n",
    "    condition_2_1 = x.School == 'Peking University'\n",
    "    condition_2_2 = x.Grade == 'Senior'\n",
    "    condition_2_3 = x.Weight > 80\n",
    "    condition_2 = condition_2_1 & (~condition_2_2) & condition_2_3\n",
    "    result = condition_1 | condition_2\n",
    "    return result\n",
    "df_demo.loc[condition]\n",
    "df_demo"
   ]
  },
  {
   "cell_type": "markdown",
   "metadata": {},
   "source": [
    "此外，还支持使用`lambda`表达式，其返回值也同样必须是先前提到的四种形式之一："
   ]
  },
  {
   "cell_type": "code",
   "execution_count": null,
   "metadata": {},
   "outputs": [],
   "source": [
    "df_demo.loc[lambda x:'Quan Zhao', lambda x:'Gender']"
   ]
  },
  {
   "cell_type": "markdown",
   "metadata": {},
   "source": [
    "由于函数无法返回如`start: end: step`的切片形式，故返回切片时要用`slice`对象进行包装："
   ]
  },
  {
   "cell_type": "code",
   "execution_count": null,
   "metadata": {},
   "outputs": [],
   "source": [
    "df_demo.loc[lambda x: slice('Gaojuan You', 'Gaoqiang Qian')]"
   ]
  },
  {
   "cell_type": "markdown",
   "metadata": {},
   "source": [
    "最后需要指出的是，对于`Series`也可以使用`loc`索引，其遵循的原则与`DataFrame`中用于行筛选的`loc[*]`完全一致，此处不再赘述。"
   ]
  },
  {
   "cell_type": "markdown",
   "metadata": {},
   "source": [
    "#### 【WARNING】不要使用链式赋值\n",
    "\n",
    "在对表或者序列赋值时，应当在使用一层索引器后直接进行赋值操作，这样做是由于进行多次索引后赋值是赋在临时返回的`copy`副本上的，而没有真正修改元素从而报出`SettingWithCopyWarning`警告。例如，下面给出的例子："
   ]
  },
  {
   "cell_type": "code",
   "execution_count": null,
   "metadata": {},
   "outputs": [],
   "source": [
    "df_chain = pd.DataFrame([[0,0],[1,0],[-1,0]], columns=list('AB'))\n",
    "df_chain\n",
    "import warnings\n",
    "with warnings.catch_warnings():\n",
    "    warnings.filterwarnings('error')\n",
    "    try:\n",
    "        df_chain[df_chain.A!=0].B = 1 # 使用方括号列索引后，再使用点的列索引\n",
    "    except Warning as w:\n",
    "        Warning_Msg = w\n",
    "print(Warning_Msg)\n",
    "df_chain"
   ]
  },
  {
   "cell_type": "code",
   "execution_count": null,
   "metadata": {},
   "outputs": [],
   "source": [
    "df_chain.loc[df_chain.A!=0,'B'] = 1\n",
    "df_chain"
   ]
  },
  {
   "cell_type": "markdown",
   "metadata": {},
   "source": [
    "#### 【END】\n",
    "\n",
    "### 4. iloc索引器\n",
    "\n",
    "`iloc`的使用与`loc`完全类似，只不过是针对位置进行筛选，在相应的`*`位置处一共也有五类合法对象，分别是：整数、整数列表、整数切片、布尔列表以及函数，函数的返回值必须是前面的四类合法对象中的一个，其输入同样也为`DataFrame`本身。\n"
   ]
  },
  {
   "cell_type": "code",
   "execution_count": null,
   "metadata": {},
   "outputs": [],
   "source": [
    "df_demo.iloc[1, 1] # 第二行第二列"
   ]
  },
  {
   "cell_type": "code",
   "execution_count": null,
   "metadata": {},
   "outputs": [],
   "source": [
    "df_demo.iloc[[0, 1], [0, 1]] # 前两行前两列"
   ]
  },
  {
   "cell_type": "code",
   "execution_count": null,
   "metadata": {},
   "outputs": [],
   "source": [
    "# 左闭右开需要注意一下\n",
    "df_demo.iloc[1: 4, 2:4] # 切片不包含结束端点"
   ]
  },
  {
   "cell_type": "code",
   "execution_count": null,
   "metadata": {},
   "outputs": [],
   "source": [
    "df_demo.iloc[lambda x: slice(1, 4)] # 传入切片为返回值的函数"
   ]
  },
  {
   "cell_type": "markdown",
   "metadata": {},
   "source": [
    "在使用布尔列表的时候要特别注意，不能传入`Series`而必须传入序列的`values`，否则会报错。因此，在使用布尔筛选的时候还是应当优先考虑`loc`的方式。\n",
    "\n",
    "例如，选出体重超过80kg的学生："
   ]
  },
  {
   "cell_type": "code",
   "execution_count": null,
   "metadata": {},
   "outputs": [],
   "source": [
    "df_demo.iloc[(df_demo.Weight>80).values].head()"
   ]
  },
  {
   "cell_type": "markdown",
   "metadata": {},
   "source": [
    "对`Series`而言同样也可以通过`iloc`返回相应位置的值或子序列："
   ]
  },
  {
   "cell_type": "code",
   "execution_count": null,
   "metadata": {},
   "outputs": [],
   "source": [
    "df_demo.School.iloc[1]"
   ]
  },
  {
   "cell_type": "code",
   "execution_count": null,
   "metadata": {},
   "outputs": [],
   "source": [
    "df_demo.School.iloc[1:5:2]"
   ]
  },
  {
   "cell_type": "markdown",
   "metadata": {},
   "source": [
    "### 5. query方法\n",
    "\n",
    "在`pandas`中，支持把字符串形式的查询表达式传入`query`方法来查询数据，其表达式的执行结果必须返回布尔列表。在进行复杂索引时，由于这种检索方式无需像普通方法一样重复使用`DataFrame`的名字来引用列名，一般而言会使代码长度在不降低可读性的前提下有所减少。\n",
    "\n",
    "例如，将`loc`一节中的复合条件查询例子可以如下改写："
   ]
  },
  {
   "cell_type": "code",
   "execution_count": null,
   "metadata": {},
   "outputs": [],
   "source": [
    "df.query('((School == \"Fudan University\")&'\n",
    "         ' (Grade == \"Senior\")&'\n",
    "         ' (Weight > 70))|'\n",
    "         '((School == \"Peking University\")&'\n",
    "         ' (Grade != \"Senior\")&'\n",
    "         ' (Weight > 80))')"
   ]
  },
  {
   "cell_type": "markdown",
   "metadata": {},
   "source": [
    "在`query`表达式中，帮用户注册了所有来自`DataFrame`的列名，所有属于该`Series`的方法都可以被调用，和正常的函数调用并没有区别，例如查询体重超过均值的学生："
   ]
  },
  {
   "cell_type": "code",
   "execution_count": null,
   "metadata": {},
   "outputs": [],
   "source": [
    "df.query('Weight > Weight.mean()').head()"
   ]
  },
  {
   "cell_type": "markdown",
   "metadata": {},
   "source": [
    "#### 【NOTE】query中引用带空格的列名\n",
    "\n",
    "对于含有空格的列名，需要使用`` `col name` ``的方式进行引用。\n",
    "\n",
    "#### 【END】\n",
    "\n",
    "同时，在`query`中还注册了若干英语的字面用法，帮助提高可读性，例如：`or, and, or, in, not in`。例如，筛选出男生中不是大一大二的学生："
   ]
  },
  {
   "cell_type": "code",
   "execution_count": null,
   "metadata": {},
   "outputs": [],
   "source": [
    "df.query('(Grade not in [\"Freshman\", \"Sophomore\"]) and (Gender == \"Male\")').head()"
   ]
  },
  {
   "cell_type": "markdown",
   "metadata": {},
   "source": [
    "此外，在字符串中出现与列表的比较时，`==`和`!=`分别表示元素出现在列表和没有出现在列表，等价于`in`和`not in`，例如查询所有大三和大四的学生："
   ]
  },
  {
   "cell_type": "code",
   "execution_count": null,
   "metadata": {},
   "outputs": [],
   "source": [
    "df.query('Grade == [\"Junior\", \"Senior\"]').head()"
   ]
  },
  {
   "cell_type": "markdown",
   "metadata": {},
   "source": [
    "对于`query`中的字符串，如果要引用外部变量，只需在变量名前加`@`符号。例如，取出体重位于70kg到80kg之间的学生："
   ]
  },
  {
   "cell_type": "code",
   "execution_count": null,
   "metadata": {},
   "outputs": [],
   "source": [
    "low, high =70, 80\n",
    "df.query('(Weight >= @low) & (Weight <= @high)').head()"
   ]
  },
  {
   "cell_type": "markdown",
   "metadata": {},
   "source": [
    "### 6. 随机抽样\n",
    "\n",
    "如果把`DataFrame`的每一行看作一个样本，或把每一列看作一个特征，再把整个`DataFrame`看作总体，想要对样本或特征进行随机抽样就可以用`sample`函数。有时在拿到大型数据集后，想要对统计特征进行计算来了解数据的大致分布，但是这很费时间。同时，由于许多统计特征在等概率不放回的简单随机抽样条件下，是总体统计特征的无偏估计，比如样本均值和总体均值，那么就可以先从整张表中抽出一部分来做近似估计。\n",
    "\n",
    "`sample`函数中的主要参数为`n, axis, frac, replace, weights`，前三个分别是指抽样数量、抽样的方向（0为行、1为列）和抽样比例（0.3则为从总体中抽出30%的样本）。\n",
    "\n",
    "`replace`和`weights`分别是指是否放回和每个样本的抽样相对概率，当`replace = True`则表示有放回抽样。例如，对下面构造的`df_sample`以`value`值的相对大小为抽样概率进行有放回抽样，抽样数量为3。"
   ]
  },
  {
   "cell_type": "code",
   "execution_count": null,
   "metadata": {},
   "outputs": [],
   "source": [
    "df_sample = pd.DataFrame({'id': list('abcde'), 'value': [1, 2, 3, 4, 90]})\n",
    "df_sample"
   ]
  },
  {
   "cell_type": "code",
   "execution_count": null,
   "metadata": {},
   "outputs": [],
   "source": [
    "df_sample.sample(3, replace = True, weights = df_sample.value)"
   ]
  },
  {
   "cell_type": "markdown",
   "metadata": {},
   "source": [
    "## 二、多级索引\n",
    "### 1. 多级索引及其表的结构\n",
    "\n",
    "为了更加清晰地说明具有多级索引的`DataFrame`结构，下面新构造一张表，读者可以忽略这里的构造方法，它们将会在第4小节被更详细地讲解。"
   ]
  },
  {
   "cell_type": "code",
   "execution_count": null,
   "metadata": {},
   "outputs": [],
   "source": [
    "np.random.seed(0)\n",
    "multi_index = pd.MultiIndex.from_product([list('ABCD'), df.Gender.unique()], names=('School', 'Gender'))\n",
    "multi_column = pd.MultiIndex.from_product([['Height', 'Weight'], df.Grade.unique()], names=('Indicator', 'Grade'))\n",
    "df_multi = pd.DataFrame(np.c_[(np.random.randn(8,4)*5 + 163).tolist(), (np.random.randn(8,4)*5 + 65).tolist()],\n",
    "                        index = multi_index, columns = multi_column).round(1)\n",
    "df_multi"
   ]
  },
  {
   "cell_type": "markdown",
   "metadata": {},
   "source": [
    "下图通过颜色区分，标记了`DataFrame`的结构。与单层索引的表一样，具备元素值、行索引和列索引三个部分。其中，这里的行索引和列索引都是`MultiIndex`类型，只不过**索引中的一个元素是元组**而不是单层索引中的标量。例如，行索引的第四个元素为`(\"B\", \"Male\")`，列索引的第二个元素为`(\"Height\", \"Senior\")`，这里需要注意，外层连续出现相同的值时，第一次之后出现的会被隐藏显示，使结果的可读性增强。\n",
    "\n",
    "<img src=\"../source/_static/multi_index.png\" width=\"50%\">\n",
    "\n",
    "与单层索引类似，`MultiIndex`也具有名字属性，图中的`School`和`Gender`分别对应了表的第一层和第二层行索引的名字，`Indicator`和`Grade`分别对应了第一层和第二层列索引的名字。\n",
    "\n",
    "索引的名字和值属性分别可以通过`names`和`values`获得："
   ]
  },
  {
   "cell_type": "code",
   "execution_count": null,
   "metadata": {},
   "outputs": [],
   "source": [
    "df_multi.index.names"
   ]
  },
  {
   "cell_type": "code",
   "execution_count": null,
   "metadata": {},
   "outputs": [],
   "source": [
    "df_multi.columns.names"
   ]
  },
  {
   "cell_type": "code",
   "execution_count": null,
   "metadata": {},
   "outputs": [],
   "source": [
    "df_multi.index.values"
   ]
  },
  {
   "cell_type": "code",
   "execution_count": null,
   "metadata": {},
   "outputs": [],
   "source": [
    "df_multi.columns.values"
   ]
  },
  {
   "cell_type": "markdown",
   "metadata": {},
   "source": [
    "如果想要得到某一层的索引，则需要通过`get_level_values`获得："
   ]
  },
  {
   "cell_type": "code",
   "execution_count": null,
   "metadata": {},
   "outputs": [],
   "source": [
    "# 没有去重\n",
    "df_multi.index.get_level_values(1)"
   ]
  },
  {
   "cell_type": "markdown",
   "metadata": {},
   "source": [
    "但对于索引而言，无论是单层还是多层，用户都无法通过`index_obj[0] = item`的方式来修改元素，也不能通过`index_name[0] = new_name`的方式来修改名字，关于如何修改这些属性的话题将在第三节被讨论。\n",
    "\n",
    "### 2. 多级索引中的loc索引器\n",
    "\n",
    "熟悉了结构后，现在回到原表，将学校和年级设为索引，此时的行为多级索引，列为单级索引，由于默认状态的列索引不含名字，因此对应于刚刚图中`Indicator`和`Grade`的索引名位置是空缺的。"
   ]
  },
  {
   "cell_type": "code",
   "execution_count": null,
   "metadata": {},
   "outputs": [],
   "source": [
    "df_multi = df.set_index(['School', 'Grade'])\n",
    "df_multi.head()"
   ]
  },
  {
   "cell_type": "markdown",
   "metadata": {},
   "source": [
    "由于多级索引中的单个元素以元组为单位，因此之前在第一节介绍的 ``loc`` 和 ``iloc`` 方法完全可以照搬，只需把标量的位置替换成对应的元组。\n",
    "\n",
    "当传入元组列表或单个元组或返回前二者的函数时，需要先进行索引排序以避免性能警告："
   ]
  },
  {
   "cell_type": "code",
   "execution_count": null,
   "metadata": {},
   "outputs": [],
   "source": [
    "with warnings.catch_warnings():\n",
    "    warnings.filterwarnings('error')\n",
    "    try:\n",
    "        df_multi.loc[('Fudan University', 'Junior')].head()\n",
    "    except Warning as w:\n",
    "        Warning_Msg = w\n",
    "Warning_Msg"
   ]
  },
  {
   "cell_type": "code",
   "execution_count": null,
   "metadata": {},
   "outputs": [],
   "source": [
    "df_sorted = df_multi.sort_index()\n",
    "df_sorted.loc[('Fudan University', 'Junior')].head()"
   ]
  },
  {
   "cell_type": "code",
   "execution_count": null,
   "metadata": {},
   "outputs": [],
   "source": [
    "df_sorted.loc[[('Fudan University', 'Senior'), ('Shanghai Jiao Tong University', 'Freshman')]].head()"
   ]
  },
  {
   "cell_type": "code",
   "execution_count": null,
   "metadata": {},
   "outputs": [],
   "source": [
    "df_sorted.loc[df_sorted.Weight > 70].head() # 布尔列表也是可用的"
   ]
  },
  {
   "cell_type": "code",
   "execution_count": null,
   "metadata": {},
   "outputs": [],
   "source": [
    "df_sorted.loc[lambda x:('Fudan University','Junior')].head()"
   ]
  },
  {
   "cell_type": "markdown",
   "metadata": {},
   "source": [
    "当使用切片时需要注意，在单级索引中只要切片端点元素是唯一的，那么就可以进行切片，但在多级索引中，无论元组在索引中是否重复出现，都必须经过排序才能使用切片，否则报错："
   ]
  },
  {
   "cell_type": "code",
   "execution_count": null,
   "metadata": {},
   "outputs": [],
   "source": [
    "try:\n",
    "    df_multi.loc[('Fudan University', 'Senior'):].head()\n",
    "except Exception as e:\n",
    "    Err_Msg = e\n",
    "Err_Msg"
   ]
  },
  {
   "cell_type": "code",
   "execution_count": null,
   "metadata": {},
   "outputs": [],
   "source": [
    "df_sorted.loc[('Fudan University', 'Senior'):].head()"
   ]
  },
  {
   "cell_type": "code",
   "execution_count": null,
   "metadata": {},
   "outputs": [],
   "source": [
    "df_unique = df.drop_duplicates(subset=['School','Grade']).set_index(['School', 'Grade'])\n",
    "df_unique.head()"
   ]
  },
  {
   "cell_type": "code",
   "execution_count": null,
   "metadata": {},
   "outputs": [],
   "source": [
    "try:\n",
    "    df_unique.loc[('Fudan University', 'Senior'):].head()\n",
    "except Exception as e:\n",
    "    Err_Msg = e\n",
    "Err_Msg"
   ]
  },
  {
   "cell_type": "code",
   "execution_count": null,
   "metadata": {},
   "outputs": [],
   "source": [
    "df_unique.sort_index().loc[('Fudan University', 'Senior'):].head()"
   ]
  },
  {
   "cell_type": "markdown",
   "metadata": {},
   "source": [
    "此外，在多级索引中的元组有一种特殊的用法，可以对多层的元素进行交叉组合后索引，但同时需要指定`loc`的列，全选则用`:`表示。其中，每一层需要选中的元素用列表存放，传入`loc`的形式为`[(level_0_list, level_1_list), cols]`。例如，想要得到所有北大和复旦的大二大三学生，可以如下写出："
   ]
  },
  {
   "cell_type": "code",
   "execution_count": null,
   "metadata": {},
   "outputs": [],
   "source": [
    "res = df_multi.loc[(['Peking University', 'Fudan University'], ['Sophomore', 'Junior']), :]\n",
    "res.head()"
   ]
  },
  {
   "cell_type": "code",
   "execution_count": null,
   "metadata": {},
   "outputs": [],
   "source": [
    "res.shape"
   ]
  },
  {
   "cell_type": "markdown",
   "metadata": {},
   "source": [
    "下面的语句和上面类似，但仍然传入的是元素（这里为元组）的列表，它们的意义是不同的，表示的是选出北大的大三学生和复旦的大二学生："
   ]
  },
  {
   "cell_type": "code",
   "execution_count": null,
   "metadata": {},
   "outputs": [],
   "source": [
    "res = df_multi.loc[[('Peking University', 'Junior'), ('Fudan University', 'Sophomore')]]\n",
    "res.head()"
   ]
  },
  {
   "cell_type": "code",
   "execution_count": null,
   "metadata": {},
   "outputs": [],
   "source": [
    "res.shape"
   ]
  },
  {
   "cell_type": "markdown",
   "metadata": {},
   "source": [
    "### 3. IndexSlice对象\n",
    "\n",
    "前面介绍的方法，即使在索引不重复的时候，也只能对元组整体进行切片，而不能对每层进行切片，也不允许将切片和布尔列表混合使用，引入`IndexSlice`对象就能解决这个问题。`Slice`对象一共有两种形式，第一种为`loc[idx[*,*]]`型，第二种为`loc[idx[*,*],idx[*,*]]`型，下面将进行介绍。为了方便演示，下面构造一个**索引不重复的**`DataFrame`："
   ]
  },
  {
   "cell_type": "code",
   "execution_count": null,
   "metadata": {},
   "outputs": [],
   "source": [
    "np.random.seed(0)\n",
    "L1,L2 = ['A','B','C'],['a','b','c']\n",
    "mul_index1 = pd.MultiIndex.from_product([L1,L2],names=('Upper', 'Lower'))\n",
    "L3,L4 = ['D','E','F'],['d','e','f']\n",
    "mul_index2 = pd.MultiIndex.from_product([L3,L4],names=('Big', 'Small'))\n",
    "df_ex = pd.DataFrame(np.random.randint(-9,10,(9,9)), index=mul_index1, columns=mul_index2)\n",
    "df_ex"
   ]
  },
  {
   "cell_type": "markdown",
   "metadata": {},
   "source": [
    "为了使用`silce`对象，先要进行定义："
   ]
  },
  {
   "cell_type": "code",
   "execution_count": null,
   "metadata": {},
   "outputs": [],
   "source": [
    "idx = pd.IndexSlice"
   ]
  },
  {
   "cell_type": "markdown",
   "metadata": {},
   "source": [
    "【a】`loc[idx[*,*]]`型\n",
    "\n",
    "这种情况并不能进行多层分别切片，前一个`*`表示行的选择，后一个`*`表示列的选择，与单纯的`loc`是类似的："
   ]
  },
  {
   "cell_type": "code",
   "execution_count": null,
   "metadata": {},
   "outputs": [],
   "source": [
    "df_ex.loc[idx['C':, ('D', 'f'):]]"
   ]
  },
  {
   "cell_type": "markdown",
   "metadata": {},
   "source": [
    "另外，也支持布尔序列的索引："
   ]
  },
  {
   "cell_type": "code",
   "execution_count": null,
   "metadata": {},
   "outputs": [],
   "source": [
    "df_ex.loc[idx[:'A', lambda x:x.sum()>0]] # 列和大于0"
   ]
  },
  {
   "cell_type": "markdown",
   "metadata": {},
   "source": [
    "【b】`loc[idx[*,*],idx[*,*]]`型\n",
    "\n",
    "这种情况能够分层进行切片，前一个`idx`指代的是行索引，后一个是列索引。"
   ]
  },
  {
   "cell_type": "code",
   "execution_count": null,
   "metadata": {},
   "outputs": [],
   "source": [
    "df_ex.loc[idx[:'A', 'b':], idx['E':, 'e':]]"
   ]
  },
  {
   "cell_type": "markdown",
   "metadata": {},
   "source": [
    "但需要注意的是，此时不支持使用函数："
   ]
  },
  {
   "cell_type": "code",
   "execution_count": null,
   "metadata": {},
   "outputs": [],
   "source": [
    "try:\n",
    "    df_ex.loc[idx[:'A', lambda x: 'b'], idx['E':, 'e':]]\n",
    "except Exception as e:\n",
    "    Err_Msg = e\n",
    "Err_Msg"
   ]
  },
  {
   "cell_type": "markdown",
   "metadata": {},
   "source": [
    "### 4. 多级索引的构造\n",
    "\n",
    "前面提到了多级索引表的结构和切片，那么除了使用`set_index`之外，如何自己构造多级索引呢？常用的有`from_tuples, from_arrays, from_product`三种方法，它们都是`pd.MultiIndex`对象下的函数。\n",
    "\n",
    "`from_tuples`指根据传入由元组组成的列表进行构造："
   ]
  },
  {
   "cell_type": "code",
   "execution_count": null,
   "metadata": {},
   "outputs": [],
   "source": [
    "my_tuple = [('a','cat'),('a','dog'),('b','cat'),('b','dog')]\n",
    "pd.MultiIndex.from_tuples(my_tuple, names=['First','Second'])"
   ]
  },
  {
   "cell_type": "markdown",
   "metadata": {},
   "source": [
    "`from_arrays`指根据传入列表中，对应层的列表进行构造："
   ]
  },
  {
   "cell_type": "code",
   "execution_count": null,
   "metadata": {},
   "outputs": [],
   "source": [
    "my_array = [list('aabb'), ['cat', 'dog']*2]\n",
    "pd.MultiIndex.from_arrays(my_array, names=['First','Second'])"
   ]
  },
  {
   "cell_type": "markdown",
   "metadata": {},
   "source": [
    "`from_product`指根据给定多个列表的笛卡尔积进行构造："
   ]
  },
  {
   "cell_type": "code",
   "execution_count": null,
   "metadata": {},
   "outputs": [],
   "source": [
    "my_list1 = ['a','b']\n",
    "my_list2 = ['cat','dog']\n",
    "pd.MultiIndex.from_product([my_list1, my_list2], names=['First','Second'])"
   ]
  },
  {
   "cell_type": "markdown",
   "metadata": {},
   "source": [
    "## 三、索引的常用方法\n",
    "### 1. 索引层的交换和删除\n",
    "为了方便理解交换的过程，这里构造一个三级索引的例子："
   ]
  },
  {
   "cell_type": "code",
   "execution_count": null,
   "metadata": {},
   "outputs": [],
   "source": [
    "np.random.seed(0)\n",
    "L1,L2,L3 = ['A','B'],['a','b'],['alpha','beta']\n",
    "mul_index1 = pd.MultiIndex.from_product([L1,L2,L3], names=('Upper', 'Lower','Extra'))\n",
    "L4,L5,L6 = ['C','D'],['c','d'],['cat','dog']\n",
    "mul_index2 = pd.MultiIndex.from_product([L4,L5,L6], names=('Big', 'Small', 'Other'))\n",
    "df_ex = pd.DataFrame(np.random.randint(-9,10,(8,8)), index=mul_index1,  columns=mul_index2)\n",
    "df_ex"
   ]
  },
  {
   "cell_type": "markdown",
   "metadata": {},
   "source": [
    "索引层的交换由`swaplevel`和`reorder_levels`完成，前者只能交换两个层，而后者可以交换任意层，两者都可以指定交换的是轴是哪一个，即行索引或列索引："
   ]
  },
  {
   "cell_type": "code",
   "execution_count": null,
   "metadata": {},
   "outputs": [],
   "source": [
    "df_ex.swaplevel(0,2,axis=1).head() # 列索引的第一层和第三层交换"
   ]
  },
  {
   "cell_type": "code",
   "execution_count": null,
   "metadata": {},
   "outputs": [],
   "source": [
    "df_ex.reorder_levels([2,0,1],axis=0).head() # 列表数字指代原来索引中的层"
   ]
  },
  {
   "cell_type": "markdown",
   "metadata": {},
   "source": [
    "#### 【NOTE】轴之间的索引交换\n",
    "这里只涉及行或列索引内部的交换，不同方向索引之间的交换将在第五章中被讨论。\n",
    "#### 【END】\n",
    "若想要删除某一层的索引，可以使用`droplevel`方法："
   ]
  },
  {
   "cell_type": "code",
   "execution_count": null,
   "metadata": {},
   "outputs": [],
   "source": [
    "df_ex.droplevel(1,axis=1)"
   ]
  },
  {
   "cell_type": "code",
   "execution_count": null,
   "metadata": {},
   "outputs": [],
   "source": [
    "df_ex.droplevel([0,1],axis=0)"
   ]
  },
  {
   "cell_type": "markdown",
   "metadata": {},
   "source": [
    "### 2. 索引属性的修改\n",
    "通过`rename_axis`可以对索引层的名字进行修改，常用的修改方式是传入字典的映射："
   ]
  },
  {
   "cell_type": "code",
   "execution_count": null,
   "metadata": {},
   "outputs": [],
   "source": [
    "df_ex.rename_axis(index={'Upper':'Changed_row'}, columns={'Other':'Changed_Col'}).head()"
   ]
  },
  {
   "cell_type": "markdown",
   "metadata": {},
   "source": [
    "通过`rename`可以对索引的值进行修改，如果是多级索引需要指定修改的层号`level`："
   ]
  },
  {
   "cell_type": "code",
   "execution_count": null,
   "metadata": {},
   "outputs": [],
   "source": [
    "df_ex.rename(columns={'cat':'not_cat'}, level=2).head()"
   ]
  },
  {
   "cell_type": "markdown",
   "metadata": {},
   "source": [
    "传入参数也可以是函数，其输入值就是索引元素："
   ]
  },
  {
   "cell_type": "code",
   "execution_count": null,
   "metadata": {},
   "outputs": [],
   "source": [
    "df_ex.rename(index=lambda x:str.upper(x), level=2).head()"
   ]
  },
  {
   "cell_type": "markdown",
   "metadata": {},
   "source": [
    "#### 【练一练】\n",
    "尝试在`rename_axis`中使用函数完成与例子中一样的功能，即把`Upper`和`Other`分别替换为`Changed_row`和`Changed_col`。\n",
    "\n"
   ]
  },
  {
   "cell_type": "code",
   "execution_count": null,
   "metadata": {},
   "outputs": [],
   "source": [
    "# df_ex.rename_axis(index={'Upper':'Changed_row'}, columns={'Other':'Changed_Col'}).head()\n",
    "df_ex.rename_axis(index=lambda x: 'Changed_row' if x=='Upper' else x, columns=lambda x: 'Changed_col' if x=='Other' else x)"
   ]
  },
  {
   "cell_type": "markdown",
   "metadata": {},
   "source": [
    "#### 【END】\n",
    "对于整个索引的元素替换，可以利用迭代器实现："
   ]
  },
  {
   "cell_type": "code",
   "execution_count": null,
   "metadata": {},
   "outputs": [],
   "source": [
    "new_values = iter(list('abcdefgh'))\n",
    "df_ex.rename(index=lambda x:next(new_values), level=2)"
   ]
  },
  {
   "cell_type": "markdown",
   "metadata": {},
   "source": [
    "若想要对某个位置的元素进行修改，在单层索引时容易实现，即先取出索引的`values`属性，再给对得到的列表进行修改，最后再对`index`对象重新赋值。但是如果是多级索引的话就有些麻烦，一个解决的方案是先把某一层索引临时转为表的元素，然后再进行修改，最后重新设定为索引，下面一节将介绍这些操作。\n",
    "\n",
    "另外一个需要介绍的函数是`map`，它是定义在`Index`上的方法，与前面`rename`方法中层的函数式用法是类似的，只不过它传入的不是层的标量值，而是直接传入索引的元组，这为用户进行跨层的修改提供了遍历。例如，可以等价地写出上面的字符串转大写的操作："
   ]
  },
  {
   "cell_type": "code",
   "execution_count": null,
   "metadata": {},
   "outputs": [],
   "source": [
    "df_temp = df_ex.copy()\n",
    "new_idx = df_temp.index.map(lambda x: (x[0], x[1], str.upper(x[2])))\n",
    "df_temp.index = new_idx\n",
    "df_temp.head()"
   ]
  },
  {
   "cell_type": "markdown",
   "metadata": {},
   "source": [
    "关于`map`的另一个使用方法是对多级索引的压缩，这在第四章和第五章的一些操作中是有用的："
   ]
  },
  {
   "cell_type": "code",
   "execution_count": null,
   "metadata": {},
   "outputs": [],
   "source": [
    "df_temp = df_ex.copy()\n",
    "new_idx = df_temp.index.map(lambda x: (x[0]+'-'+x[1]+'-'+x[2]))\n",
    "df_temp.index = new_idx\n",
    "df_temp.head() # 单层索引"
   ]
  },
  {
   "cell_type": "markdown",
   "metadata": {},
   "source": [
    "同时，也可以反向地展开："
   ]
  },
  {
   "cell_type": "code",
   "execution_count": null,
   "metadata": {},
   "outputs": [],
   "source": [
    "new_idx = df_temp.index.map(lambda x:tuple(x.split('-')))\n",
    "df_temp.index = new_idx\n",
    "df_temp.head() # 三层索引"
   ]
  },
  {
   "cell_type": "markdown",
   "metadata": {},
   "source": [
    "### 3. 索引的设置与重置\n",
    "为了说明本节的函数，下面构造一个新表："
   ]
  },
  {
   "cell_type": "code",
   "execution_count": null,
   "metadata": {},
   "outputs": [],
   "source": [
    "df_new = pd.DataFrame({'A':list('aacd'), 'B':list('PQRT'), 'C':[1,2,3,4]})\n",
    "df_new"
   ]
  },
  {
   "cell_type": "markdown",
   "metadata": {},
   "source": [
    "索引的设置可以使用`set_index`完成，这里的主要参数是`append`，表示是否来保留原来的索引，直接把新设定的添加到原索引的内层："
   ]
  },
  {
   "cell_type": "code",
   "execution_count": null,
   "metadata": {},
   "outputs": [],
   "source": [
    "df_new.set_index('A')"
   ]
  },
  {
   "cell_type": "code",
   "execution_count": null,
   "metadata": {},
   "outputs": [],
   "source": [
    "df_new.set_index('A', append=True)"
   ]
  },
  {
   "cell_type": "code",
   "execution_count": null,
   "metadata": {},
   "outputs": [],
   "source": [
    "# 如果不添加append原来的索引就被删除了\n",
    "df_new.set_index('B').set_index('A')\n"
   ]
  },
  {
   "cell_type": "markdown",
   "metadata": {},
   "source": [
    "可以同时指定多个列作为索引："
   ]
  },
  {
   "cell_type": "code",
   "execution_count": null,
   "metadata": {},
   "outputs": [],
   "source": [
    "df_new.set_index(['A', 'B'])"
   ]
  },
  {
   "cell_type": "markdown",
   "metadata": {},
   "source": [
    "如果想要添加索引的列没有出现在其中，那么可以直接在参数中传入相应的`Series`："
   ]
  },
  {
   "cell_type": "code",
   "execution_count": null,
   "metadata": {},
   "outputs": [],
   "source": [
    "my_index = pd.Series(list('WXYZ'), name='D')\n",
    "df_new = df_new.set_index(['A', my_index])\n",
    "df_new"
   ]
  },
  {
   "cell_type": "markdown",
   "metadata": {},
   "source": [
    "`reset_index`是`set_index`的逆函数，其主要参数是`drop`，表示是否要把去掉的索引层丢弃，而不是添加到列中："
   ]
  },
  {
   "cell_type": "code",
   "execution_count": null,
   "metadata": {},
   "outputs": [],
   "source": [
    "df_new.reset_index(['D'])"
   ]
  },
  {
   "cell_type": "code",
   "execution_count": null,
   "metadata": {},
   "outputs": [],
   "source": [
    "df_new.reset_index(['D'], drop=True)"
   ]
  },
  {
   "cell_type": "markdown",
   "metadata": {},
   "source": [
    "如果重置了所有的索引，那么`pandas`会直接重新生成一个默认索引："
   ]
  },
  {
   "cell_type": "code",
   "execution_count": null,
   "metadata": {},
   "outputs": [],
   "source": [
    "df_new.reset_index()"
   ]
  },
  {
   "cell_type": "markdown",
   "metadata": {},
   "source": [
    "### 4. 索引的变形\n",
    "在某些场合下，需要对索引做一些扩充或者剔除，更具体地要求是给定一个新的索引，把原表中相应的索引对应元素填充到新索引构成的表中。例如，下面的表中给出了员工信息，需要重新制作一张新的表，要求增加一名员工的同时去掉身高列并增加性别列："
   ]
  },
  {
   "cell_type": "code",
   "execution_count": null,
   "metadata": {},
   "outputs": [],
   "source": [
    "df_reindex = pd.DataFrame({\"Weight\":[60,70,80], \"Height\":[176,180,179]}, index=['1001','1003','1002'])\n",
    "df_reindex"
   ]
  },
  {
   "cell_type": "code",
   "execution_count": null,
   "metadata": {},
   "outputs": [],
   "source": [
    "df_reindex.reindex(index=['1001','1002','1003','1004'], columns=['Weight','Gender'])"
   ]
  },
  {
   "cell_type": "markdown",
   "metadata": {},
   "source": [
    "这种需求常出现在时间序列索引的时间点填充以及`ID`编号的扩充。另外，需要注意的是原来表中的数据和新表中会根据索引自动对齐，例如原先的1002号位置在1003号之后，而新表中相反，那么`reindex`中会根据元素对齐，与位置无关。\n",
    "\n",
    "还有一个与`reindex`功能类似的函数是`reindex_like`，其功能是仿照传入的表索引来进行被调用表索引的变形。例如，现在已经存在一张表具备了目标索引的条件，那么上述功能可采用下述代码得到："
   ]
  },
  {
   "cell_type": "code",
   "execution_count": null,
   "metadata": {},
   "outputs": [],
   "source": [
    "df_existed = pd.DataFrame(index=['1001','1002','1003','1004'], columns=['Weight','Gender'])\n",
    "df_reindex.reindex_like(df_existed)"
   ]
  },
  {
   "cell_type": "markdown",
   "metadata": {},
   "source": [
    "## 四、索引运算\n",
    "### 1. 集合的运算法则\n",
    "\n",
    "经常会有一种利用集合运算来取出符合条件行的需求，例如有两张表`A`和`B`，它们的索引都是员工编号，现在需要筛选出两表索引交集的所有员工信息，此时通过`Index`上的运算操作就很容易实现。\n",
    "\n",
    "不过在此之前，不妨先复习一下常见的四种集合运算："
   ]
  },
  {
   "cell_type": "markdown",
   "metadata": {},
   "source": [
    "$$\\rm S_A.intersection(S_B) = \\rm S_A \\cap S_B \\Leftrightarrow \\rm \\{x|x\\in S_A\\, and\\, x\\in S_B\\}$$\n",
    "$$\\rm S_A.union(S_B) = \\rm S_A \\cup S_B \\Leftrightarrow \\rm \\{x|x\\in S_A\\, or\\, x\\in S_B\\}$$\n",
    "$$\\rm S_A.difference(S_B) = \\rm S_A - S_B \\Leftrightarrow \\rm \\{x|x\\in S_A\\, and\\, x\\notin S_B\\}$$\n",
    "$$\\rm S_A.symmetric\\_difference(S_B) = \\rm S_A\\triangle S_B\\Leftrightarrow \\rm \\{x|x\\in S_A\\cup S_B - S_A\\cap S_B\\}$$"
   ]
  },
  {
   "cell_type": "markdown",
   "metadata": {},
   "source": [
    "### 2. 一般的索引运算"
   ]
  },
  {
   "cell_type": "markdown",
   "metadata": {},
   "source": [
    "由于集合的元素是互异的，但是索引中可能有相同的元素，先用`unique`去重后再进行运算。下面构造两张最为简单的示例表进行演示："
   ]
  },
  {
   "cell_type": "code",
   "execution_count": null,
   "metadata": {},
   "outputs": [],
   "source": [
    "df_set_1 = pd.DataFrame([[0,1],[1,2],[3,4]], index = pd.Index(['a','b','a'],name='id1'))\n",
    "df_set_2 = pd.DataFrame([[4,5],[2,6],[7,1]], index = pd.Index(['b','b','c'],name='id2'))\n",
    "id1, id2 = df_set_1.index.unique(), df_set_2.index.unique()\n",
    "id1.intersection(id2)"
   ]
  },
  {
   "cell_type": "code",
   "execution_count": null,
   "metadata": {},
   "outputs": [],
   "source": [
    "id1.union(id2)"
   ]
  },
  {
   "cell_type": "code",
   "execution_count": null,
   "metadata": {},
   "outputs": [],
   "source": [
    "id1.difference(id2)"
   ]
  },
  {
   "cell_type": "code",
   "execution_count": null,
   "metadata": {},
   "outputs": [],
   "source": [
    "id1.symmetric_difference(id2)"
   ]
  },
  {
   "cell_type": "markdown",
   "metadata": {},
   "source": [
    "若两张表需要做集合运算的列并没有被设置索引，一种办法是先转成索引，运算后再恢复，另一种方法是利用`isin`函数，例如在重置索引的第一张表中选出id列交集的所在行："
   ]
  },
  {
   "cell_type": "code",
   "execution_count": null,
   "metadata": {},
   "outputs": [],
   "source": [
    "df_set_in_col_1 = df_set_1.reset_index()\n",
    "df_set_in_col_2 = df_set_2.reset_index()\n",
    "df_set_in_col_1"
   ]
  },
  {
   "cell_type": "code",
   "execution_count": null,
   "metadata": {},
   "outputs": [],
   "source": [
    "df_set_in_col_2"
   ]
  },
  {
   "cell_type": "code",
   "execution_count": null,
   "metadata": {},
   "outputs": [],
   "source": [
    "df_set_in_col_1[df_set_in_col_1.id1.isin(df_set_in_col_2.id2)]"
   ]
  },
  {
   "cell_type": "markdown",
   "metadata": {},
   "source": [
    "## 五、练习\n",
    "### Ex1：公司员工数据集\n",
    "现有一份公司员工数据集："
   ]
  },
  {
   "cell_type": "code",
   "execution_count": 187,
   "metadata": {},
   "outputs": [
    {
     "data": {
      "text/html": [
       "<div>\n",
       "<style scoped>\n",
       "    .dataframe tbody tr th:only-of-type {\n",
       "        vertical-align: middle;\n",
       "    }\n",
       "\n",
       "    .dataframe tbody tr th {\n",
       "        vertical-align: top;\n",
       "    }\n",
       "\n",
       "    .dataframe thead th {\n",
       "        text-align: right;\n",
       "    }\n",
       "</style>\n",
       "<table border=\"1\" class=\"dataframe\">\n",
       "  <thead>\n",
       "    <tr style=\"text-align: right;\">\n",
       "      <th></th>\n",
       "      <th>EmployeeID</th>\n",
       "      <th>birthdate_key</th>\n",
       "      <th>age</th>\n",
       "      <th>city_name</th>\n",
       "      <th>department</th>\n",
       "      <th>job_title</th>\n",
       "      <th>gender</th>\n",
       "    </tr>\n",
       "  </thead>\n",
       "  <tbody>\n",
       "    <tr>\n",
       "      <th>0</th>\n",
       "      <td>1318</td>\n",
       "      <td>1/3/1954</td>\n",
       "      <td>61</td>\n",
       "      <td>Vancouver</td>\n",
       "      <td>Executive</td>\n",
       "      <td>CEO</td>\n",
       "      <td>M</td>\n",
       "    </tr>\n",
       "    <tr>\n",
       "      <th>1</th>\n",
       "      <td>1319</td>\n",
       "      <td>1/3/1957</td>\n",
       "      <td>58</td>\n",
       "      <td>Vancouver</td>\n",
       "      <td>Executive</td>\n",
       "      <td>VP Stores</td>\n",
       "      <td>F</td>\n",
       "    </tr>\n",
       "    <tr>\n",
       "      <th>2</th>\n",
       "      <td>1320</td>\n",
       "      <td>1/2/1955</td>\n",
       "      <td>60</td>\n",
       "      <td>Vancouver</td>\n",
       "      <td>Executive</td>\n",
       "      <td>Legal Counsel</td>\n",
       "      <td>F</td>\n",
       "    </tr>\n",
       "  </tbody>\n",
       "</table>\n",
       "</div>"
      ],
      "text/plain": [
       "   EmployeeID birthdate_key  age  city_name department      job_title gender\n",
       "0        1318      1/3/1954   61  Vancouver  Executive            CEO      M\n",
       "1        1319      1/3/1957   58  Vancouver  Executive      VP Stores      F\n",
       "2        1320      1/2/1955   60  Vancouver  Executive  Legal Counsel      F"
      ]
     },
     "execution_count": 187,
     "metadata": {},
     "output_type": "execute_result"
    }
   ],
   "source": [
    "df = pd.read_csv('../data/company.csv')\n",
    "df_op=df.copy()\n",
    "df.head(3)"
   ]
  },
  {
   "cell_type": "markdown",
   "metadata": {},
   "source": [
    "1. 分别只使用`query`和`loc`选出年龄不超过四十岁且工作部门为`Dairy`或`Bakery`的男性。\n",
    "2. 选出员工`ID`号 为奇数所在行的第1、第3和倒数第2列。\n",
    "3. 按照以下步骤进行索引操作：\n",
    "\n",
    "* 把后三列设为索引后交换内外两层\n",
    "* 恢复中间层索引\n",
    "* 修改外层索引名为`Gender`\n",
    "* 用下划线合并两层行索引\n",
    "* 把行索引拆分为原状态\n",
    "* 修改索引名为原表名称\n",
    "* 恢复默认索引并将列保持为原表的相对位置"
   ]
  },
  {
   "cell_type": "code",
   "execution_count": 188,
   "metadata": {},
   "outputs": [
    {
     "data": {
      "text/html": [
       "<div>\n",
       "<style scoped>\n",
       "    .dataframe tbody tr th:only-of-type {\n",
       "        vertical-align: middle;\n",
       "    }\n",
       "\n",
       "    .dataframe tbody tr th {\n",
       "        vertical-align: top;\n",
       "    }\n",
       "\n",
       "    .dataframe thead th {\n",
       "        text-align: right;\n",
       "    }\n",
       "</style>\n",
       "<table border=\"1\" class=\"dataframe\">\n",
       "  <thead>\n",
       "    <tr style=\"text-align: right;\">\n",
       "      <th></th>\n",
       "      <th>job_title</th>\n",
       "      <th>EmployeeID</th>\n",
       "      <th>birthdate_key</th>\n",
       "      <th>age</th>\n",
       "      <th>city_name</th>\n",
       "    </tr>\n",
       "  </thead>\n",
       "  <tbody>\n",
       "    <tr>\n",
       "      <th>M_Executive</th>\n",
       "      <td>CEO</td>\n",
       "      <td>1318</td>\n",
       "      <td>1/3/1954</td>\n",
       "      <td>61</td>\n",
       "      <td>Vancouver</td>\n",
       "    </tr>\n",
       "    <tr>\n",
       "      <th>F_Executive</th>\n",
       "      <td>VP Stores</td>\n",
       "      <td>1319</td>\n",
       "      <td>1/3/1957</td>\n",
       "      <td>58</td>\n",
       "      <td>Vancouver</td>\n",
       "    </tr>\n",
       "    <tr>\n",
       "      <th>F_Executive</th>\n",
       "      <td>Legal Counsel</td>\n",
       "      <td>1320</td>\n",
       "      <td>1/2/1955</td>\n",
       "      <td>60</td>\n",
       "      <td>Vancouver</td>\n",
       "    </tr>\n",
       "    <tr>\n",
       "      <th>M_Executive</th>\n",
       "      <td>VP Human Resources</td>\n",
       "      <td>1321</td>\n",
       "      <td>1/2/1959</td>\n",
       "      <td>56</td>\n",
       "      <td>Vancouver</td>\n",
       "    </tr>\n",
       "    <tr>\n",
       "      <th>M_Executive</th>\n",
       "      <td>VP Finance</td>\n",
       "      <td>1322</td>\n",
       "      <td>1/9/1958</td>\n",
       "      <td>57</td>\n",
       "      <td>Vancouver</td>\n",
       "    </tr>\n",
       "    <tr>\n",
       "      <th>...</th>\n",
       "      <td>...</td>\n",
       "      <td>...</td>\n",
       "      <td>...</td>\n",
       "      <td>...</td>\n",
       "      <td>...</td>\n",
       "    </tr>\n",
       "    <tr>\n",
       "      <th>F_Customer Service</th>\n",
       "      <td>Cashier</td>\n",
       "      <td>8036</td>\n",
       "      <td>8/9/1992</td>\n",
       "      <td>23</td>\n",
       "      <td>New Westminister</td>\n",
       "    </tr>\n",
       "    <tr>\n",
       "      <th>M_Customer Service</th>\n",
       "      <td>Cashier</td>\n",
       "      <td>8181</td>\n",
       "      <td>9/26/1993</td>\n",
       "      <td>22</td>\n",
       "      <td>Prince George</td>\n",
       "    </tr>\n",
       "    <tr>\n",
       "      <th>M_Customer Service</th>\n",
       "      <td>Cashier</td>\n",
       "      <td>8223</td>\n",
       "      <td>2/11/1994</td>\n",
       "      <td>21</td>\n",
       "      <td>Trail</td>\n",
       "    </tr>\n",
       "    <tr>\n",
       "      <th>F_Customer Service</th>\n",
       "      <td>Cashier</td>\n",
       "      <td>8226</td>\n",
       "      <td>2/16/1994</td>\n",
       "      <td>21</td>\n",
       "      <td>Victoria</td>\n",
       "    </tr>\n",
       "    <tr>\n",
       "      <th>F_Customer Service</th>\n",
       "      <td>Cashier</td>\n",
       "      <td>8264</td>\n",
       "      <td>6/13/1994</td>\n",
       "      <td>21</td>\n",
       "      <td>Vancouver</td>\n",
       "    </tr>\n",
       "  </tbody>\n",
       "</table>\n",
       "<p>6284 rows × 5 columns</p>\n",
       "</div>"
      ],
      "text/plain": [
       "                             job_title  EmployeeID birthdate_key  age  \\\n",
       "M_Executive                        CEO        1318      1/3/1954   61   \n",
       "F_Executive                  VP Stores        1319      1/3/1957   58   \n",
       "F_Executive              Legal Counsel        1320      1/2/1955   60   \n",
       "M_Executive         VP Human Resources        1321      1/2/1959   56   \n",
       "M_Executive                 VP Finance        1322      1/9/1958   57   \n",
       "...                                ...         ...           ...  ...   \n",
       "F_Customer Service             Cashier        8036      8/9/1992   23   \n",
       "M_Customer Service             Cashier        8181     9/26/1993   22   \n",
       "M_Customer Service             Cashier        8223     2/11/1994   21   \n",
       "F_Customer Service             Cashier        8226     2/16/1994   21   \n",
       "F_Customer Service             Cashier        8264     6/13/1994   21   \n",
       "\n",
       "                           city_name  \n",
       "M_Executive                Vancouver  \n",
       "F_Executive                Vancouver  \n",
       "F_Executive                Vancouver  \n",
       "M_Executive                Vancouver  \n",
       "M_Executive                Vancouver  \n",
       "...                              ...  \n",
       "F_Customer Service  New Westminister  \n",
       "M_Customer Service     Prince George  \n",
       "M_Customer Service             Trail  \n",
       "F_Customer Service          Victoria  \n",
       "F_Customer Service         Vancouver  \n",
       "\n",
       "[6284 rows x 5 columns]"
      ]
     },
     "execution_count": 188,
     "metadata": {},
     "output_type": "execute_result"
    }
   ],
   "source": [
    "#3 索引操作\n",
    "# df.columns[-3:]\n",
    "df=df.set_index(df.columns[-3:].to_list()).swaplevel(2,0,axis=0).reset_index(1).rename_axis(index={'gender':'Gender'})\n",
    "new_index=df.index.map(lambda x: x[0]+'_'+x[1])\n",
    "df.index=new_index\n",
    "df"
   ]
  },
  {
   "cell_type": "code",
   "execution_count": 178,
   "metadata": {},
   "outputs": [
    {
     "data": {
      "text/html": [
       "<div>\n",
       "<style scoped>\n",
       "    .dataframe tbody tr th:only-of-type {\n",
       "        vertical-align: middle;\n",
       "    }\n",
       "\n",
       "    .dataframe tbody tr th {\n",
       "        vertical-align: top;\n",
       "    }\n",
       "\n",
       "    .dataframe thead th {\n",
       "        text-align: right;\n",
       "    }\n",
       "</style>\n",
       "<table border=\"1\" class=\"dataframe\">\n",
       "  <thead>\n",
       "    <tr style=\"text-align: right;\">\n",
       "      <th></th>\n",
       "      <th></th>\n",
       "      <th>job_title</th>\n",
       "      <th>EmployeeID</th>\n",
       "      <th>birthdate_key</th>\n",
       "      <th>age</th>\n",
       "      <th>city_name</th>\n",
       "    </tr>\n",
       "  </thead>\n",
       "  <tbody>\n",
       "    <tr>\n",
       "      <th>M</th>\n",
       "      <th>Executive</th>\n",
       "      <td>CEO</td>\n",
       "      <td>1318</td>\n",
       "      <td>1/3/1954</td>\n",
       "      <td>61</td>\n",
       "      <td>Vancouver</td>\n",
       "    </tr>\n",
       "    <tr>\n",
       "      <th rowspan=\"2\" valign=\"top\">F</th>\n",
       "      <th>Executive</th>\n",
       "      <td>VP Stores</td>\n",
       "      <td>1319</td>\n",
       "      <td>1/3/1957</td>\n",
       "      <td>58</td>\n",
       "      <td>Vancouver</td>\n",
       "    </tr>\n",
       "    <tr>\n",
       "      <th>Executive</th>\n",
       "      <td>Legal Counsel</td>\n",
       "      <td>1320</td>\n",
       "      <td>1/2/1955</td>\n",
       "      <td>60</td>\n",
       "      <td>Vancouver</td>\n",
       "    </tr>\n",
       "    <tr>\n",
       "      <th rowspan=\"2\" valign=\"top\">M</th>\n",
       "      <th>Executive</th>\n",
       "      <td>VP Human Resources</td>\n",
       "      <td>1321</td>\n",
       "      <td>1/2/1959</td>\n",
       "      <td>56</td>\n",
       "      <td>Vancouver</td>\n",
       "    </tr>\n",
       "    <tr>\n",
       "      <th>Executive</th>\n",
       "      <td>VP Finance</td>\n",
       "      <td>1322</td>\n",
       "      <td>1/9/1958</td>\n",
       "      <td>57</td>\n",
       "      <td>Vancouver</td>\n",
       "    </tr>\n",
       "    <tr>\n",
       "      <th>...</th>\n",
       "      <th>...</th>\n",
       "      <td>...</td>\n",
       "      <td>...</td>\n",
       "      <td>...</td>\n",
       "      <td>...</td>\n",
       "      <td>...</td>\n",
       "    </tr>\n",
       "    <tr>\n",
       "      <th>F</th>\n",
       "      <th>Customer Service</th>\n",
       "      <td>Cashier</td>\n",
       "      <td>8036</td>\n",
       "      <td>8/9/1992</td>\n",
       "      <td>23</td>\n",
       "      <td>New Westminister</td>\n",
       "    </tr>\n",
       "    <tr>\n",
       "      <th rowspan=\"2\" valign=\"top\">M</th>\n",
       "      <th>Customer Service</th>\n",
       "      <td>Cashier</td>\n",
       "      <td>8181</td>\n",
       "      <td>9/26/1993</td>\n",
       "      <td>22</td>\n",
       "      <td>Prince George</td>\n",
       "    </tr>\n",
       "    <tr>\n",
       "      <th>Customer Service</th>\n",
       "      <td>Cashier</td>\n",
       "      <td>8223</td>\n",
       "      <td>2/11/1994</td>\n",
       "      <td>21</td>\n",
       "      <td>Trail</td>\n",
       "    </tr>\n",
       "    <tr>\n",
       "      <th rowspan=\"2\" valign=\"top\">F</th>\n",
       "      <th>Customer Service</th>\n",
       "      <td>Cashier</td>\n",
       "      <td>8226</td>\n",
       "      <td>2/16/1994</td>\n",
       "      <td>21</td>\n",
       "      <td>Victoria</td>\n",
       "    </tr>\n",
       "    <tr>\n",
       "      <th>Customer Service</th>\n",
       "      <td>Cashier</td>\n",
       "      <td>8264</td>\n",
       "      <td>6/13/1994</td>\n",
       "      <td>21</td>\n",
       "      <td>Vancouver</td>\n",
       "    </tr>\n",
       "  </tbody>\n",
       "</table>\n",
       "<p>6284 rows × 5 columns</p>\n",
       "</div>"
      ],
      "text/plain": [
       "                             job_title  EmployeeID birthdate_key  age  \\\n",
       "M Executive                        CEO        1318      1/3/1954   61   \n",
       "F Executive                  VP Stores        1319      1/3/1957   58   \n",
       "  Executive              Legal Counsel        1320      1/2/1955   60   \n",
       "M Executive         VP Human Resources        1321      1/2/1959   56   \n",
       "  Executive                 VP Finance        1322      1/9/1958   57   \n",
       "...                                ...         ...           ...  ...   \n",
       "F Customer Service             Cashier        8036      8/9/1992   23   \n",
       "M Customer Service             Cashier        8181     9/26/1993   22   \n",
       "  Customer Service             Cashier        8223     2/11/1994   21   \n",
       "F Customer Service             Cashier        8226     2/16/1994   21   \n",
       "  Customer Service             Cashier        8264     6/13/1994   21   \n",
       "\n",
       "                           city_name  \n",
       "M Executive                Vancouver  \n",
       "F Executive                Vancouver  \n",
       "  Executive                Vancouver  \n",
       "M Executive                Vancouver  \n",
       "  Executive                Vancouver  \n",
       "...                              ...  \n",
       "F Customer Service  New Westminister  \n",
       "M Customer Service     Prince George  \n",
       "  Customer Service             Trail  \n",
       "F Customer Service          Victoria  \n",
       "  Customer Service         Vancouver  \n",
       "\n",
       "[6284 rows x 5 columns]"
      ]
     },
     "execution_count": 178,
     "metadata": {},
     "output_type": "execute_result"
    }
   ],
   "source": [
    "new_index2=df.index.map(lambda x: tuple(x.split('_')))\n",
    "df.index=new_index2\n",
    "df"
   ]
  },
  {
   "cell_type": "code",
   "execution_count": 179,
   "metadata": {},
   "outputs": [
    {
     "data": {
      "text/html": [
       "<div>\n",
       "<style scoped>\n",
       "    .dataframe tbody tr th:only-of-type {\n",
       "        vertical-align: middle;\n",
       "    }\n",
       "\n",
       "    .dataframe tbody tr th {\n",
       "        vertical-align: top;\n",
       "    }\n",
       "\n",
       "    .dataframe thead th {\n",
       "        text-align: right;\n",
       "    }\n",
       "</style>\n",
       "<table border=\"1\" class=\"dataframe\">\n",
       "  <thead>\n",
       "    <tr style=\"text-align: right;\">\n",
       "      <th></th>\n",
       "      <th></th>\n",
       "      <th>job_title</th>\n",
       "      <th>EmployeeID</th>\n",
       "      <th>birthdate_key</th>\n",
       "      <th>age</th>\n",
       "      <th>city_name</th>\n",
       "    </tr>\n",
       "    <tr>\n",
       "      <th>gender</th>\n",
       "      <th>department</th>\n",
       "      <th></th>\n",
       "      <th></th>\n",
       "      <th></th>\n",
       "      <th></th>\n",
       "      <th></th>\n",
       "    </tr>\n",
       "  </thead>\n",
       "  <tbody>\n",
       "    <tr>\n",
       "      <th>M</th>\n",
       "      <th>Executive</th>\n",
       "      <td>CEO</td>\n",
       "      <td>1318</td>\n",
       "      <td>1/3/1954</td>\n",
       "      <td>61</td>\n",
       "      <td>Vancouver</td>\n",
       "    </tr>\n",
       "    <tr>\n",
       "      <th rowspan=\"2\" valign=\"top\">F</th>\n",
       "      <th>Executive</th>\n",
       "      <td>VP Stores</td>\n",
       "      <td>1319</td>\n",
       "      <td>1/3/1957</td>\n",
       "      <td>58</td>\n",
       "      <td>Vancouver</td>\n",
       "    </tr>\n",
       "    <tr>\n",
       "      <th>Executive</th>\n",
       "      <td>Legal Counsel</td>\n",
       "      <td>1320</td>\n",
       "      <td>1/2/1955</td>\n",
       "      <td>60</td>\n",
       "      <td>Vancouver</td>\n",
       "    </tr>\n",
       "    <tr>\n",
       "      <th rowspan=\"2\" valign=\"top\">M</th>\n",
       "      <th>Executive</th>\n",
       "      <td>VP Human Resources</td>\n",
       "      <td>1321</td>\n",
       "      <td>1/2/1959</td>\n",
       "      <td>56</td>\n",
       "      <td>Vancouver</td>\n",
       "    </tr>\n",
       "    <tr>\n",
       "      <th>Executive</th>\n",
       "      <td>VP Finance</td>\n",
       "      <td>1322</td>\n",
       "      <td>1/9/1958</td>\n",
       "      <td>57</td>\n",
       "      <td>Vancouver</td>\n",
       "    </tr>\n",
       "    <tr>\n",
       "      <th>...</th>\n",
       "      <th>...</th>\n",
       "      <td>...</td>\n",
       "      <td>...</td>\n",
       "      <td>...</td>\n",
       "      <td>...</td>\n",
       "      <td>...</td>\n",
       "    </tr>\n",
       "    <tr>\n",
       "      <th>F</th>\n",
       "      <th>Customer Service</th>\n",
       "      <td>Cashier</td>\n",
       "      <td>8036</td>\n",
       "      <td>8/9/1992</td>\n",
       "      <td>23</td>\n",
       "      <td>New Westminister</td>\n",
       "    </tr>\n",
       "    <tr>\n",
       "      <th rowspan=\"2\" valign=\"top\">M</th>\n",
       "      <th>Customer Service</th>\n",
       "      <td>Cashier</td>\n",
       "      <td>8181</td>\n",
       "      <td>9/26/1993</td>\n",
       "      <td>22</td>\n",
       "      <td>Prince George</td>\n",
       "    </tr>\n",
       "    <tr>\n",
       "      <th>Customer Service</th>\n",
       "      <td>Cashier</td>\n",
       "      <td>8223</td>\n",
       "      <td>2/11/1994</td>\n",
       "      <td>21</td>\n",
       "      <td>Trail</td>\n",
       "    </tr>\n",
       "    <tr>\n",
       "      <th rowspan=\"2\" valign=\"top\">F</th>\n",
       "      <th>Customer Service</th>\n",
       "      <td>Cashier</td>\n",
       "      <td>8226</td>\n",
       "      <td>2/16/1994</td>\n",
       "      <td>21</td>\n",
       "      <td>Victoria</td>\n",
       "    </tr>\n",
       "    <tr>\n",
       "      <th>Customer Service</th>\n",
       "      <td>Cashier</td>\n",
       "      <td>8264</td>\n",
       "      <td>6/13/1994</td>\n",
       "      <td>21</td>\n",
       "      <td>Vancouver</td>\n",
       "    </tr>\n",
       "  </tbody>\n",
       "</table>\n",
       "<p>6284 rows × 5 columns</p>\n",
       "</div>"
      ],
      "text/plain": [
       "                                  job_title  EmployeeID birthdate_key  age  \\\n",
       "gender department                                                            \n",
       "M      Executive                        CEO        1318      1/3/1954   61   \n",
       "F      Executive                  VP Stores        1319      1/3/1957   58   \n",
       "       Executive              Legal Counsel        1320      1/2/1955   60   \n",
       "M      Executive         VP Human Resources        1321      1/2/1959   56   \n",
       "       Executive                 VP Finance        1322      1/9/1958   57   \n",
       "...                                     ...         ...           ...  ...   \n",
       "F      Customer Service             Cashier        8036      8/9/1992   23   \n",
       "M      Customer Service             Cashier        8181     9/26/1993   22   \n",
       "       Customer Service             Cashier        8223     2/11/1994   21   \n",
       "F      Customer Service             Cashier        8226     2/16/1994   21   \n",
       "       Customer Service             Cashier        8264     6/13/1994   21   \n",
       "\n",
       "                                city_name  \n",
       "gender department                          \n",
       "M      Executive                Vancouver  \n",
       "F      Executive                Vancouver  \n",
       "       Executive                Vancouver  \n",
       "M      Executive                Vancouver  \n",
       "       Executive                Vancouver  \n",
       "...                                   ...  \n",
       "F      Customer Service  New Westminister  \n",
       "M      Customer Service     Prince George  \n",
       "       Customer Service             Trail  \n",
       "F      Customer Service          Victoria  \n",
       "       Customer Service         Vancouver  \n",
       "\n",
       "[6284 rows x 5 columns]"
      ]
     },
     "execution_count": 179,
     "metadata": {},
     "output_type": "execute_result"
    }
   ],
   "source": [
    "df.index=df.index.rename(('gender','department'))\n",
    "df"
   ]
  },
  {
   "cell_type": "code",
   "execution_count": 180,
   "metadata": {},
   "outputs": [],
   "source": [
    "df=df.reset_index().reindex(df_op.columns,axis=1)\n",
    "df"
   ]
  },
  {
   "cell_type": "code",
   "execution_count": null,
   "metadata": {},
   "outputs": [],
   "source": [
    "#1 分别只使用`query`和`loc`选出年龄不超过四十岁且工作部门为`Dairy`或`Bakery`的男性。\n",
    "df.query('age <= 40 & department == [\"Dairy\",\"Bakery\"]').head()\n"
   ]
  },
  {
   "cell_type": "code",
   "execution_count": null,
   "metadata": {},
   "outputs": [],
   "source": [
    "# 这里注意组合条件需要添加小括号进行分组\n",
    "df.loc[(df.age <=40) & (df.department.isin([\"Dairy\",\"Bakery\"]))].head()"
   ]
  },
  {
   "cell_type": "code",
   "execution_count": null,
   "metadata": {},
   "outputs": [],
   "source": [
    "#2 选出员工`ID`号 为奇数所在行的第1、第3和倒数第2列。\n",
    "\n",
    "df.loc[(df.index.values % 2) != 0, [df.columns[0],df.columns[2],df.columns[-2]]]"
   ]
  },
  {
   "cell_type": "markdown",
   "metadata": {},
   "source": [
    "### Ex2：巧克力数据集\n",
    "现有一份关于巧克力评价的数据集："
   ]
  },
  {
   "cell_type": "code",
   "execution_count": 27,
   "metadata": {},
   "outputs": [
    {
     "data": {
      "text/html": [
       "<div>\n",
       "<style scoped>\n",
       "    .dataframe tbody tr th:only-of-type {\n",
       "        vertical-align: middle;\n",
       "    }\n",
       "\n",
       "    .dataframe tbody tr th {\n",
       "        vertical-align: top;\n",
       "    }\n",
       "\n",
       "    .dataframe thead th {\n",
       "        text-align: right;\n",
       "    }\n",
       "</style>\n",
       "<table border=\"1\" class=\"dataframe\">\n",
       "  <thead>\n",
       "    <tr style=\"text-align: right;\">\n",
       "      <th></th>\n",
       "      <th>Company</th>\n",
       "      <th>Review\\nDate</th>\n",
       "      <th>Cocoa\\nPercent</th>\n",
       "      <th>Company\\nLocation</th>\n",
       "      <th>Rating</th>\n",
       "    </tr>\n",
       "  </thead>\n",
       "  <tbody>\n",
       "    <tr>\n",
       "      <th>0</th>\n",
       "      <td>A. Morin</td>\n",
       "      <td>2016</td>\n",
       "      <td>63%</td>\n",
       "      <td>France</td>\n",
       "      <td>3.75</td>\n",
       "    </tr>\n",
       "    <tr>\n",
       "      <th>1</th>\n",
       "      <td>A. Morin</td>\n",
       "      <td>2015</td>\n",
       "      <td>70%</td>\n",
       "      <td>France</td>\n",
       "      <td>2.75</td>\n",
       "    </tr>\n",
       "    <tr>\n",
       "      <th>2</th>\n",
       "      <td>A. Morin</td>\n",
       "      <td>2015</td>\n",
       "      <td>70%</td>\n",
       "      <td>France</td>\n",
       "      <td>3.00</td>\n",
       "    </tr>\n",
       "  </tbody>\n",
       "</table>\n",
       "</div>"
      ],
      "text/plain": [
       "    Company  Review\\nDate Cocoa\\nPercent Company\\nLocation  Rating\n",
       "0  A. Morin          2016            63%            France    3.75\n",
       "1  A. Morin          2015            70%            France    2.75\n",
       "2  A. Morin          2015            70%            France    3.00"
      ]
     },
     "execution_count": 27,
     "metadata": {},
     "output_type": "execute_result"
    }
   ],
   "source": [
    "df = pd.read_csv('../data/chocolate.csv')\n",
    "df.head(3)"
   ]
  },
  {
   "cell_type": "markdown",
   "metadata": {},
   "source": [
    "1. 把列索引名中的`\\n`替换为空格。\n",
    "2. 巧克力`Rating`评分为1至5，每0.25分一档，请选出2.75分及以下且可可含量`Cocoa Percent`高于中位数的样本。\n",
    "3. 将`Review Date`和`Company Location`设为索引后，选出`Review Date`在2012年之后且`Company Location`不属于`France, Canada, Amsterdam, Belgium`的样本。"
   ]
  },
  {
   "cell_type": "code",
   "execution_count": 28,
   "metadata": {},
   "outputs": [
    {
     "data": {
      "text/html": [
       "<div>\n",
       "<style scoped>\n",
       "    .dataframe tbody tr th:only-of-type {\n",
       "        vertical-align: middle;\n",
       "    }\n",
       "\n",
       "    .dataframe tbody tr th {\n",
       "        vertical-align: top;\n",
       "    }\n",
       "\n",
       "    .dataframe thead th {\n",
       "        text-align: right;\n",
       "    }\n",
       "</style>\n",
       "<table border=\"1\" class=\"dataframe\">\n",
       "  <thead>\n",
       "    <tr style=\"text-align: right;\">\n",
       "      <th></th>\n",
       "      <th>Company</th>\n",
       "      <th>Review Date</th>\n",
       "      <th>Cocoa Percent</th>\n",
       "      <th>Company Location</th>\n",
       "      <th>Rating</th>\n",
       "    </tr>\n",
       "  </thead>\n",
       "  <tbody>\n",
       "    <tr>\n",
       "      <th>0</th>\n",
       "      <td>A. Morin</td>\n",
       "      <td>2016</td>\n",
       "      <td>63%</td>\n",
       "      <td>France</td>\n",
       "      <td>3.75</td>\n",
       "    </tr>\n",
       "    <tr>\n",
       "      <th>1</th>\n",
       "      <td>A. Morin</td>\n",
       "      <td>2015</td>\n",
       "      <td>70%</td>\n",
       "      <td>France</td>\n",
       "      <td>2.75</td>\n",
       "    </tr>\n",
       "    <tr>\n",
       "      <th>2</th>\n",
       "      <td>A. Morin</td>\n",
       "      <td>2015</td>\n",
       "      <td>70%</td>\n",
       "      <td>France</td>\n",
       "      <td>3.00</td>\n",
       "    </tr>\n",
       "    <tr>\n",
       "      <th>3</th>\n",
       "      <td>A. Morin</td>\n",
       "      <td>2015</td>\n",
       "      <td>70%</td>\n",
       "      <td>France</td>\n",
       "      <td>3.50</td>\n",
       "    </tr>\n",
       "    <tr>\n",
       "      <th>4</th>\n",
       "      <td>A. Morin</td>\n",
       "      <td>2015</td>\n",
       "      <td>70%</td>\n",
       "      <td>France</td>\n",
       "      <td>3.50</td>\n",
       "    </tr>\n",
       "  </tbody>\n",
       "</table>\n",
       "</div>"
      ],
      "text/plain": [
       "    Company  Review Date Cocoa Percent Company Location  Rating\n",
       "0  A. Morin         2016           63%           France    3.75\n",
       "1  A. Morin         2015           70%           France    2.75\n",
       "2  A. Morin         2015           70%           France    3.00\n",
       "3  A. Morin         2015           70%           France    3.50\n",
       "4  A. Morin         2015           70%           France    3.50"
      ]
     },
     "execution_count": 28,
     "metadata": {},
     "output_type": "execute_result"
    }
   ],
   "source": [
    "df_op=df.copy()\n",
    "new_col=df.columns.map(lambda x: x.replace('\\n',' '))\n",
    "df.columns=new_col\n",
    "df.head()"
   ]
  },
  {
   "cell_type": "code",
   "execution_count": 53,
   "metadata": {},
   "outputs": [
    {
     "data": {
      "text/html": [
       "<div>\n",
       "<style scoped>\n",
       "    .dataframe tbody tr th:only-of-type {\n",
       "        vertical-align: middle;\n",
       "    }\n",
       "\n",
       "    .dataframe tbody tr th {\n",
       "        vertical-align: top;\n",
       "    }\n",
       "\n",
       "    .dataframe thead th {\n",
       "        text-align: right;\n",
       "    }\n",
       "</style>\n",
       "<table border=\"1\" class=\"dataframe\">\n",
       "  <thead>\n",
       "    <tr style=\"text-align: right;\">\n",
       "      <th></th>\n",
       "      <th>Company</th>\n",
       "      <th>Review Date</th>\n",
       "      <th>Cocoa Percent</th>\n",
       "      <th>Company Location</th>\n",
       "      <th>Rating</th>\n",
       "    </tr>\n",
       "  </thead>\n",
       "  <tbody>\n",
       "    <tr>\n",
       "      <th>33</th>\n",
       "      <td>Akesson's (Pralus)</td>\n",
       "      <td>2010</td>\n",
       "      <td>75%</td>\n",
       "      <td>Switzerland</td>\n",
       "      <td>2.75</td>\n",
       "    </tr>\n",
       "    <tr>\n",
       "      <th>34</th>\n",
       "      <td>Akesson's (Pralus)</td>\n",
       "      <td>2010</td>\n",
       "      <td>75%</td>\n",
       "      <td>Switzerland</td>\n",
       "      <td>2.75</td>\n",
       "    </tr>\n",
       "    <tr>\n",
       "      <th>36</th>\n",
       "      <td>Alain Ducasse</td>\n",
       "      <td>2014</td>\n",
       "      <td>75%</td>\n",
       "      <td>France</td>\n",
       "      <td>2.75</td>\n",
       "    </tr>\n",
       "    <tr>\n",
       "      <th>38</th>\n",
       "      <td>Alain Ducasse</td>\n",
       "      <td>2013</td>\n",
       "      <td>75%</td>\n",
       "      <td>France</td>\n",
       "      <td>2.50</td>\n",
       "    </tr>\n",
       "    <tr>\n",
       "      <th>39</th>\n",
       "      <td>Alain Ducasse</td>\n",
       "      <td>2013</td>\n",
       "      <td>75%</td>\n",
       "      <td>France</td>\n",
       "      <td>2.50</td>\n",
       "    </tr>\n",
       "    <tr>\n",
       "      <th>...</th>\n",
       "      <td>...</td>\n",
       "      <td>...</td>\n",
       "      <td>...</td>\n",
       "      <td>...</td>\n",
       "      <td>...</td>\n",
       "    </tr>\n",
       "    <tr>\n",
       "      <th>1736</th>\n",
       "      <td>Wilkie's Organic</td>\n",
       "      <td>2013</td>\n",
       "      <td>89%</td>\n",
       "      <td>Ireland</td>\n",
       "      <td>2.75</td>\n",
       "    </tr>\n",
       "    <tr>\n",
       "      <th>1738</th>\n",
       "      <td>Wilkie's Organic</td>\n",
       "      <td>2013</td>\n",
       "      <td>75%</td>\n",
       "      <td>Ireland</td>\n",
       "      <td>2.75</td>\n",
       "    </tr>\n",
       "    <tr>\n",
       "      <th>1741</th>\n",
       "      <td>Willie's Cacao</td>\n",
       "      <td>2013</td>\n",
       "      <td>100%</td>\n",
       "      <td>U.K.</td>\n",
       "      <td>2.25</td>\n",
       "    </tr>\n",
       "    <tr>\n",
       "      <th>1769</th>\n",
       "      <td>Zart Pralinen</td>\n",
       "      <td>2016</td>\n",
       "      <td>85%</td>\n",
       "      <td>Austria</td>\n",
       "      <td>2.75</td>\n",
       "    </tr>\n",
       "    <tr>\n",
       "      <th>1778</th>\n",
       "      <td>Zotter</td>\n",
       "      <td>2014</td>\n",
       "      <td>80%</td>\n",
       "      <td>Austria</td>\n",
       "      <td>2.75</td>\n",
       "    </tr>\n",
       "  </tbody>\n",
       "</table>\n",
       "<p>239 rows × 5 columns</p>\n",
       "</div>"
      ],
      "text/plain": [
       "                 Company  Review Date Cocoa Percent Company Location  Rating\n",
       "33    Akesson's (Pralus)         2010           75%      Switzerland    2.75\n",
       "34    Akesson's (Pralus)         2010           75%      Switzerland    2.75\n",
       "36         Alain Ducasse         2014           75%           France    2.75\n",
       "38         Alain Ducasse         2013           75%           France    2.50\n",
       "39         Alain Ducasse         2013           75%           France    2.50\n",
       "...                  ...          ...           ...              ...     ...\n",
       "1736    Wilkie's Organic         2013           89%          Ireland    2.75\n",
       "1738    Wilkie's Organic         2013           75%          Ireland    2.75\n",
       "1741      Willie's Cacao         2013          100%             U.K.    2.25\n",
       "1769       Zart Pralinen         2016           85%          Austria    2.75\n",
       "1778              Zotter         2014           80%          Austria    2.75\n",
       "\n",
       "[239 rows x 5 columns]"
      ]
     },
     "execution_count": 53,
     "metadata": {},
     "output_type": "execute_result"
    }
   ],
   "source": [
    "zhongweishu=df['Cocoa Percent'].str.strip('%').astype(float).quantile(0.5)\n",
    "df.loc[(df.Rating<3) & (df['Cocoa Percent'].str.strip('%').astype(float)>zhongweishu) ]"
   ]
  },
  {
   "cell_type": "code",
   "execution_count": 30,
   "metadata": {},
   "outputs": [],
   "source": [
    "#将`Review Date`和`Company Location`设为索引后，选出`Review Date`在2012年之后且`Company Location`不属于`France, Canada, Amsterdam, Belgium`的样本。\n",
    "df_oop=df.set_index(['Review Date','Company Location'])\n",
    "df_oop"
   ]
  },
  {
   "cell_type": "code",
   "execution_count": 34,
   "metadata": {},
   "outputs": [
    {
     "data": {
      "text/html": [
       "<div>\n",
       "<style scoped>\n",
       "    .dataframe tbody tr th:only-of-type {\n",
       "        vertical-align: middle;\n",
       "    }\n",
       "\n",
       "    .dataframe tbody tr th {\n",
       "        vertical-align: top;\n",
       "    }\n",
       "\n",
       "    .dataframe thead th {\n",
       "        text-align: right;\n",
       "    }\n",
       "</style>\n",
       "<table border=\"1\" class=\"dataframe\">\n",
       "  <thead>\n",
       "    <tr style=\"text-align: right;\">\n",
       "      <th></th>\n",
       "      <th></th>\n",
       "      <th>Company</th>\n",
       "      <th>Cocoa Percent</th>\n",
       "      <th>Rating</th>\n",
       "    </tr>\n",
       "    <tr>\n",
       "      <th>Review Date</th>\n",
       "      <th>Company Location</th>\n",
       "      <th></th>\n",
       "      <th></th>\n",
       "      <th></th>\n",
       "    </tr>\n",
       "  </thead>\n",
       "  <tbody>\n",
       "    <tr>\n",
       "      <th>2016</th>\n",
       "      <th>France</th>\n",
       "      <td>A. Morin</td>\n",
       "      <td>63%</td>\n",
       "      <td>3.75</td>\n",
       "    </tr>\n",
       "    <tr>\n",
       "      <th rowspan=\"4\" valign=\"top\">2015</th>\n",
       "      <th>France</th>\n",
       "      <td>A. Morin</td>\n",
       "      <td>70%</td>\n",
       "      <td>2.75</td>\n",
       "    </tr>\n",
       "    <tr>\n",
       "      <th>France</th>\n",
       "      <td>A. Morin</td>\n",
       "      <td>70%</td>\n",
       "      <td>3.00</td>\n",
       "    </tr>\n",
       "    <tr>\n",
       "      <th>France</th>\n",
       "      <td>A. Morin</td>\n",
       "      <td>70%</td>\n",
       "      <td>3.50</td>\n",
       "    </tr>\n",
       "    <tr>\n",
       "      <th>France</th>\n",
       "      <td>A. Morin</td>\n",
       "      <td>70%</td>\n",
       "      <td>3.50</td>\n",
       "    </tr>\n",
       "    <tr>\n",
       "      <th>...</th>\n",
       "      <th>...</th>\n",
       "      <td>...</td>\n",
       "      <td>...</td>\n",
       "      <td>...</td>\n",
       "    </tr>\n",
       "    <tr>\n",
       "      <th rowspan=\"4\" valign=\"top\">2011</th>\n",
       "      <th>Austria</th>\n",
       "      <td>Zotter</td>\n",
       "      <td>70%</td>\n",
       "      <td>3.75</td>\n",
       "    </tr>\n",
       "    <tr>\n",
       "      <th>Austria</th>\n",
       "      <td>Zotter</td>\n",
       "      <td>65%</td>\n",
       "      <td>3.00</td>\n",
       "    </tr>\n",
       "    <tr>\n",
       "      <th>Austria</th>\n",
       "      <td>Zotter</td>\n",
       "      <td>65%</td>\n",
       "      <td>3.50</td>\n",
       "    </tr>\n",
       "    <tr>\n",
       "      <th>Austria</th>\n",
       "      <td>Zotter</td>\n",
       "      <td>62%</td>\n",
       "      <td>3.25</td>\n",
       "    </tr>\n",
       "    <tr>\n",
       "      <th>2010</th>\n",
       "      <th>Austria</th>\n",
       "      <td>Zotter</td>\n",
       "      <td>65%</td>\n",
       "      <td>3.00</td>\n",
       "    </tr>\n",
       "  </tbody>\n",
       "</table>\n",
       "<p>1795 rows × 3 columns</p>\n",
       "</div>"
      ],
      "text/plain": [
       "                               Company Cocoa Percent  Rating\n",
       "Review Date Company Location                                \n",
       "2016        France            A. Morin           63%    3.75\n",
       "2015        France            A. Morin           70%    2.75\n",
       "            France            A. Morin           70%    3.00\n",
       "            France            A. Morin           70%    3.50\n",
       "            France            A. Morin           70%    3.50\n",
       "...                                ...           ...     ...\n",
       "2011        Austria             Zotter           70%    3.75\n",
       "            Austria             Zotter           65%    3.00\n",
       "            Austria             Zotter           65%    3.50\n",
       "            Austria             Zotter           62%    3.25\n",
       "2010        Austria             Zotter           65%    3.00\n",
       "\n",
       "[1795 rows x 3 columns]"
      ]
     },
     "execution_count": 34,
     "metadata": {},
     "output_type": "execute_result"
    }
   ],
   "source": [
    "df_oop\n"
   ]
  },
  {
   "cell_type": "code",
   "execution_count": 56,
   "metadata": {},
   "outputs": [
    {
     "data": {
      "text/html": [
       "<div>\n",
       "<style scoped>\n",
       "    .dataframe tbody tr th:only-of-type {\n",
       "        vertical-align: middle;\n",
       "    }\n",
       "\n",
       "    .dataframe tbody tr th {\n",
       "        vertical-align: top;\n",
       "    }\n",
       "\n",
       "    .dataframe thead th {\n",
       "        text-align: right;\n",
       "    }\n",
       "</style>\n",
       "<table border=\"1\" class=\"dataframe\">\n",
       "  <thead>\n",
       "    <tr style=\"text-align: right;\">\n",
       "      <th></th>\n",
       "      <th></th>\n",
       "      <th>Company</th>\n",
       "      <th>Cocoa Percent</th>\n",
       "      <th>Rating</th>\n",
       "    </tr>\n",
       "    <tr>\n",
       "      <th>Review Date</th>\n",
       "      <th>Company Location</th>\n",
       "      <th></th>\n",
       "      <th></th>\n",
       "      <th></th>\n",
       "    </tr>\n",
       "  </thead>\n",
       "  <tbody>\n",
       "    <tr>\n",
       "      <th rowspan=\"5\" valign=\"top\">2012</th>\n",
       "      <th>Australia</th>\n",
       "      <td>Bahen &amp; Co.</td>\n",
       "      <td>70%</td>\n",
       "      <td>3.00</td>\n",
       "    </tr>\n",
       "    <tr>\n",
       "      <th>Australia</th>\n",
       "      <td>Bahen &amp; Co.</td>\n",
       "      <td>70%</td>\n",
       "      <td>2.50</td>\n",
       "    </tr>\n",
       "    <tr>\n",
       "      <th>Australia</th>\n",
       "      <td>Bahen &amp; Co.</td>\n",
       "      <td>70%</td>\n",
       "      <td>2.50</td>\n",
       "    </tr>\n",
       "    <tr>\n",
       "      <th>Australia</th>\n",
       "      <td>Cravve</td>\n",
       "      <td>75%</td>\n",
       "      <td>3.25</td>\n",
       "    </tr>\n",
       "    <tr>\n",
       "      <th>Australia</th>\n",
       "      <td>Cravve</td>\n",
       "      <td>65%</td>\n",
       "      <td>3.25</td>\n",
       "    </tr>\n",
       "    <tr>\n",
       "      <th>...</th>\n",
       "      <th>...</th>\n",
       "      <td>...</td>\n",
       "      <td>...</td>\n",
       "      <td>...</td>\n",
       "    </tr>\n",
       "    <tr>\n",
       "      <th rowspan=\"5\" valign=\"top\">2017</th>\n",
       "      <th>U.S.A.</th>\n",
       "      <td>Spencer</td>\n",
       "      <td>70%</td>\n",
       "      <td>3.75</td>\n",
       "    </tr>\n",
       "    <tr>\n",
       "      <th>U.S.A.</th>\n",
       "      <td>Spencer</td>\n",
       "      <td>70%</td>\n",
       "      <td>3.50</td>\n",
       "    </tr>\n",
       "    <tr>\n",
       "      <th>U.S.A.</th>\n",
       "      <td>Spencer</td>\n",
       "      <td>70%</td>\n",
       "      <td>2.75</td>\n",
       "    </tr>\n",
       "    <tr>\n",
       "      <th>U.S.A.</th>\n",
       "      <td>Xocolla</td>\n",
       "      <td>70%</td>\n",
       "      <td>2.75</td>\n",
       "    </tr>\n",
       "    <tr>\n",
       "      <th>U.S.A.</th>\n",
       "      <td>Xocolla</td>\n",
       "      <td>70%</td>\n",
       "      <td>2.50</td>\n",
       "    </tr>\n",
       "  </tbody>\n",
       "</table>\n",
       "<p>972 rows × 3 columns</p>\n",
       "</div>"
      ],
      "text/plain": [
       "                                  Company Cocoa Percent  Rating\n",
       "Review Date Company Location                                   \n",
       "2012        Australia         Bahen & Co.           70%    3.00\n",
       "            Australia         Bahen & Co.           70%    2.50\n",
       "            Australia         Bahen & Co.           70%    2.50\n",
       "            Australia              Cravve           75%    3.25\n",
       "            Australia              Cravve           65%    3.25\n",
       "...                                   ...           ...     ...\n",
       "2017        U.S.A.                Spencer           70%    3.75\n",
       "            U.S.A.                Spencer           70%    3.50\n",
       "            U.S.A.                Spencer           70%    2.75\n",
       "            U.S.A.                Xocolla           70%    2.75\n",
       "            U.S.A.                Xocolla           70%    2.50\n",
       "\n",
       "[972 rows x 3 columns]"
      ]
     },
     "execution_count": 56,
     "metadata": {},
     "output_type": "execute_result"
    }
   ],
   "source": [
    "idx = pd.IndexSlice\n",
    "exclude = ['France', 'Canada', 'Amsterdam', 'Belgium']\n",
    "res = df.set_index(['Review Date', 'Company Location']).sort_index(level=0)\n",
    "res.loc[idx[2012:,~res.index.get_level_values(1).isin(exclude)],:]"
   ]
  },
  {
   "cell_type": "code",
   "execution_count": 57,
   "metadata": {},
   "outputs": [
    {
     "data": {
      "text/html": [
       "<div>\n",
       "<style scoped>\n",
       "    .dataframe tbody tr th:only-of-type {\n",
       "        vertical-align: middle;\n",
       "    }\n",
       "\n",
       "    .dataframe tbody tr th {\n",
       "        vertical-align: top;\n",
       "    }\n",
       "\n",
       "    .dataframe thead th {\n",
       "        text-align: right;\n",
       "    }\n",
       "</style>\n",
       "<table border=\"1\" class=\"dataframe\">\n",
       "  <thead>\n",
       "    <tr style=\"text-align: right;\">\n",
       "      <th></th>\n",
       "      <th></th>\n",
       "      <th>Company</th>\n",
       "      <th>Cocoa Percent</th>\n",
       "      <th>Rating</th>\n",
       "    </tr>\n",
       "    <tr>\n",
       "      <th>Review Date</th>\n",
       "      <th>Company Location</th>\n",
       "      <th></th>\n",
       "      <th></th>\n",
       "      <th></th>\n",
       "    </tr>\n",
       "  </thead>\n",
       "  <tbody>\n",
       "    <tr>\n",
       "      <th rowspan=\"2\" valign=\"top\">2015</th>\n",
       "      <th>U.S.A.</th>\n",
       "      <td>Acalli</td>\n",
       "      <td>70%</td>\n",
       "      <td>3.75</td>\n",
       "    </tr>\n",
       "    <tr>\n",
       "      <th>U.S.A.</th>\n",
       "      <td>Acalli</td>\n",
       "      <td>70%</td>\n",
       "      <td>3.75</td>\n",
       "    </tr>\n",
       "    <tr>\n",
       "      <th rowspan=\"3\" valign=\"top\">2017</th>\n",
       "      <th>Netherlands</th>\n",
       "      <td>Alexandre</td>\n",
       "      <td>70%</td>\n",
       "      <td>3.50</td>\n",
       "    </tr>\n",
       "    <tr>\n",
       "      <th>Netherlands</th>\n",
       "      <td>Alexandre</td>\n",
       "      <td>70%</td>\n",
       "      <td>3.50</td>\n",
       "    </tr>\n",
       "    <tr>\n",
       "      <th>Netherlands</th>\n",
       "      <td>Alexandre</td>\n",
       "      <td>70%</td>\n",
       "      <td>3.50</td>\n",
       "    </tr>\n",
       "    <tr>\n",
       "      <th>...</th>\n",
       "      <th>...</th>\n",
       "      <td>...</td>\n",
       "      <td>...</td>\n",
       "      <td>...</td>\n",
       "    </tr>\n",
       "    <tr>\n",
       "      <th rowspan=\"5\" valign=\"top\">2012</th>\n",
       "      <th>Austria</th>\n",
       "      <td>Zotter</td>\n",
       "      <td>75%</td>\n",
       "      <td>3.00</td>\n",
       "    </tr>\n",
       "    <tr>\n",
       "      <th>Austria</th>\n",
       "      <td>Zotter</td>\n",
       "      <td>90%</td>\n",
       "      <td>3.25</td>\n",
       "    </tr>\n",
       "    <tr>\n",
       "      <th>Austria</th>\n",
       "      <td>Zotter</td>\n",
       "      <td>70%</td>\n",
       "      <td>3.75</td>\n",
       "    </tr>\n",
       "    <tr>\n",
       "      <th>Austria</th>\n",
       "      <td>Zotter</td>\n",
       "      <td>68%</td>\n",
       "      <td>3.25</td>\n",
       "    </tr>\n",
       "    <tr>\n",
       "      <th>Austria</th>\n",
       "      <td>Zotter</td>\n",
       "      <td>58%</td>\n",
       "      <td>3.50</td>\n",
       "    </tr>\n",
       "  </tbody>\n",
       "</table>\n",
       "<p>972 rows × 3 columns</p>\n",
       "</div>"
      ],
      "text/plain": [
       "                                Company Cocoa Percent  Rating\n",
       "Review Date Company Location                                 \n",
       "2015        U.S.A.               Acalli           70%    3.75\n",
       "            U.S.A.               Acalli           70%    3.75\n",
       "2017        Netherlands       Alexandre           70%    3.50\n",
       "            Netherlands       Alexandre           70%    3.50\n",
       "            Netherlands       Alexandre           70%    3.50\n",
       "...                                 ...           ...     ...\n",
       "2012        Austria              Zotter           75%    3.00\n",
       "            Austria              Zotter           90%    3.25\n",
       "            Austria              Zotter           70%    3.75\n",
       "            Austria              Zotter           68%    3.25\n",
       "            Austria              Zotter           58%    3.50\n",
       "\n",
       "[972 rows x 3 columns]"
      ]
     },
     "execution_count": 57,
     "metadata": {},
     "output_type": "execute_result"
    }
   ],
   "source": [
    "df_oop.loc[(df_oop.index.get_level_values(0)>=2012)&(~df_oop.index.get_level_values(1).isin(['France', 'Canada', 'Amsterdam', 'Belgium']))]\n"
   ]
  },
  {
   "cell_type": "code",
   "execution_count": 54,
   "metadata": {},
   "outputs": [
    {
     "data": {
      "text/html": [
       "<div>\n",
       "<style scoped>\n",
       "    .dataframe tbody tr th:only-of-type {\n",
       "        vertical-align: middle;\n",
       "    }\n",
       "\n",
       "    .dataframe tbody tr th {\n",
       "        vertical-align: top;\n",
       "    }\n",
       "\n",
       "    .dataframe thead th {\n",
       "        text-align: right;\n",
       "    }\n",
       "</style>\n",
       "<table border=\"1\" class=\"dataframe\">\n",
       "  <thead>\n",
       "    <tr style=\"text-align: right;\">\n",
       "      <th></th>\n",
       "      <th>Company</th>\n",
       "      <th>Cocoa Percent</th>\n",
       "      <th>Rating</th>\n",
       "    </tr>\n",
       "    <tr>\n",
       "      <th>Company Location</th>\n",
       "      <th></th>\n",
       "      <th></th>\n",
       "      <th></th>\n",
       "    </tr>\n",
       "  </thead>\n",
       "  <tbody>\n",
       "    <tr>\n",
       "      <th>France</th>\n",
       "      <td>A. Morin</td>\n",
       "      <td>70%</td>\n",
       "      <td>3.50</td>\n",
       "    </tr>\n",
       "    <tr>\n",
       "      <th>France</th>\n",
       "      <td>A. Morin</td>\n",
       "      <td>63%</td>\n",
       "      <td>3.75</td>\n",
       "    </tr>\n",
       "    <tr>\n",
       "      <th>Italy</th>\n",
       "      <td>Amedei</td>\n",
       "      <td>70%</td>\n",
       "      <td>3.75</td>\n",
       "    </tr>\n",
       "    <tr>\n",
       "      <th>U.K.</th>\n",
       "      <td>Artisan du Chocolat</td>\n",
       "      <td>72%</td>\n",
       "      <td>3.75</td>\n",
       "    </tr>\n",
       "    <tr>\n",
       "      <th>Australia</th>\n",
       "      <td>Bahen &amp; Co.</td>\n",
       "      <td>70%</td>\n",
       "      <td>3.00</td>\n",
       "    </tr>\n",
       "    <tr>\n",
       "      <th>...</th>\n",
       "      <td>...</td>\n",
       "      <td>...</td>\n",
       "      <td>...</td>\n",
       "    </tr>\n",
       "    <tr>\n",
       "      <th>Austria</th>\n",
       "      <td>Zotter</td>\n",
       "      <td>75%</td>\n",
       "      <td>3.00</td>\n",
       "    </tr>\n",
       "    <tr>\n",
       "      <th>Austria</th>\n",
       "      <td>Zotter</td>\n",
       "      <td>90%</td>\n",
       "      <td>3.25</td>\n",
       "    </tr>\n",
       "    <tr>\n",
       "      <th>Austria</th>\n",
       "      <td>Zotter</td>\n",
       "      <td>70%</td>\n",
       "      <td>3.75</td>\n",
       "    </tr>\n",
       "    <tr>\n",
       "      <th>Austria</th>\n",
       "      <td>Zotter</td>\n",
       "      <td>68%</td>\n",
       "      <td>3.25</td>\n",
       "    </tr>\n",
       "    <tr>\n",
       "      <th>Austria</th>\n",
       "      <td>Zotter</td>\n",
       "      <td>58%</td>\n",
       "      <td>3.50</td>\n",
       "    </tr>\n",
       "  </tbody>\n",
       "</table>\n",
       "<p>195 rows × 3 columns</p>\n",
       "</div>"
      ],
      "text/plain": [
       "                              Company Cocoa Percent  Rating\n",
       "Company Location                                           \n",
       "France                       A. Morin           70%    3.50\n",
       "France                       A. Morin           63%    3.75\n",
       "Italy                          Amedei           70%    3.75\n",
       "U.K.              Artisan du Chocolat           72%    3.75\n",
       "Australia                 Bahen & Co.           70%    3.00\n",
       "...                               ...           ...     ...\n",
       "Austria                        Zotter           75%    3.00\n",
       "Austria                        Zotter           90%    3.25\n",
       "Austria                        Zotter           70%    3.75\n",
       "Austria                        Zotter           68%    3.25\n",
       "Austria                        Zotter           58%    3.50\n",
       "\n",
       "[195 rows x 3 columns]"
      ]
     },
     "execution_count": 54,
     "metadata": {},
     "output_type": "execute_result"
    }
   ],
   "source": [
    "df_oop.loc[2012]"
   ]
  }
 ],
 "metadata": {
  "kernelspec": {
   "display_name": "Python 3.8.12 ('cyn')",
   "language": "python",
   "name": "python3"
  },
  "language_info": {
   "codemirror_mode": {
    "name": "ipython",
    "version": 3
   },
   "file_extension": ".py",
   "mimetype": "text/x-python",
   "name": "python",
   "nbconvert_exporter": "python",
   "pygments_lexer": "ipython3",
   "version": "3.10.12"
  },
  "orig_nbformat": 2,
  "vscode": {
   "interpreter": {
    "hash": "74c21770a630934f846b3e7935c8064798cc1b962b8ca97c0c0fcad9f07f7725"
   }
  }
 },
 "nbformat": 4,
 "nbformat_minor": 2
}
